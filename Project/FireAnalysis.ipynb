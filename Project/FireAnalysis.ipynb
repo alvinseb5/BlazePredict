{
 "cells": [
  {
   "cell_type": "code",
   "execution_count": 1,
   "id": "493d9b37",
   "metadata": {},
   "outputs": [
    {
     "name": "stderr",
     "output_type": "stream",
     "text": [
      "D:\\Coursera\\Ananconda\\lib\\site-packages\\scipy\\__init__.py:138: UserWarning: A NumPy version >=1.16.5 and <1.23.0 is required for this version of SciPy (detected version 1.24.3)\n",
      "  warnings.warn(f\"A NumPy version >={np_minversion} and <{np_maxversion} is required for this version of \"\n"
     ]
    }
   ],
   "source": [
    "# Importing the libraries\n",
    "import seaborn as sns\n",
    "import numpy as np\n",
    "import matplotlib.pyplot as plt\n",
    "import pandas as pd\n",
    "import plotly.graph_objects as go\n",
    "import kaleido"
   ]
  },
  {
   "cell_type": "code",
   "execution_count": 22,
   "id": "47668a42",
   "metadata": {},
   "outputs": [
    {
     "name": "stderr",
     "output_type": "stream",
     "text": [
      "D:\\Coursera\\Ananconda\\lib\\site-packages\\IPython\\core\\interactiveshell.py:3165: DtypeWarning:\n",
      "\n",
      "Columns (3) have mixed types.Specify dtype option on import or set low_memory=False.\n",
      "\n"
     ]
    }
   ],
   "source": [
    "# Importing the dataset\n",
    "df = pd.read_csv('Datasets/model_dataset2008-18.csv')"
   ]
  },
  {
   "cell_type": "code",
   "execution_count": 15,
   "id": "10c2f127",
   "metadata": {},
   "outputs": [
    {
     "data": {
      "text/html": [
       "<div>\n",
       "<style scoped>\n",
       "    .dataframe tbody tr th:only-of-type {\n",
       "        vertical-align: middle;\n",
       "    }\n",
       "\n",
       "    .dataframe tbody tr th {\n",
       "        vertical-align: top;\n",
       "    }\n",
       "\n",
       "    .dataframe thead th {\n",
       "        text-align: right;\n",
       "    }\n",
       "</style>\n",
       "<table border=\"1\" class=\"dataframe\">\n",
       "  <thead>\n",
       "    <tr style=\"text-align: right;\">\n",
       "      <th></th>\n",
       "      <th>Date</th>\n",
       "      <th>FIRE_SIZE_CLASS</th>\n",
       "      <th>FIRE_SIZE</th>\n",
       "      <th>SOURCE_REPORTING_UNIT</th>\n",
       "      <th>SOURCE_REPORTING_UNIT_NAME</th>\n",
       "      <th>FIRE_YEAR</th>\n",
       "      <th>DISCOVERY_DATE</th>\n",
       "      <th>NWCG_GENERAL_CAUSE</th>\n",
       "      <th>CONT_DATE</th>\n",
       "      <th>LATITUDE</th>\n",
       "      <th>...</th>\n",
       "      <th>STATE</th>\n",
       "      <th>tavg</th>\n",
       "      <th>tmin</th>\n",
       "      <th>tmax</th>\n",
       "      <th>prcp</th>\n",
       "      <th>snow</th>\n",
       "      <th>wspd</th>\n",
       "      <th>pres</th>\n",
       "      <th>Station</th>\n",
       "      <th>Station_id</th>\n",
       "    </tr>\n",
       "  </thead>\n",
       "  <tbody>\n",
       "    <tr>\n",
       "      <th>0</th>\n",
       "      <td>2008-04-07</td>\n",
       "      <td>N</td>\n",
       "      <td>0.0</td>\n",
       "      <td>904</td>\n",
       "      <td>Huron-Manistee National Forest</td>\n",
       "      <td>2008</td>\n",
       "      <td>2008-04-08</td>\n",
       "      <td>Missing data/not specified/undetermined</td>\n",
       "      <td>2008-04-08</td>\n",
       "      <td>44.566389</td>\n",
       "      <td>...</td>\n",
       "      <td>MI</td>\n",
       "      <td>8.3</td>\n",
       "      <td>2.2</td>\n",
       "      <td>12.2</td>\n",
       "      <td>0.0</td>\n",
       "      <td>0.0</td>\n",
       "      <td>19.1</td>\n",
       "      <td>1013.0</td>\n",
       "      <td>Muskegon County Airport</td>\n",
       "      <td>72636</td>\n",
       "    </tr>\n",
       "    <tr>\n",
       "      <th>1</th>\n",
       "      <td>2008-04-08</td>\n",
       "      <td>A</td>\n",
       "      <td>0.1</td>\n",
       "      <td>904</td>\n",
       "      <td>Huron-Manistee National Forest</td>\n",
       "      <td>2008</td>\n",
       "      <td>2008-04-08</td>\n",
       "      <td>Missing data/not specified/undetermined</td>\n",
       "      <td>2008-04-08</td>\n",
       "      <td>44.566389</td>\n",
       "      <td>...</td>\n",
       "      <td>MI</td>\n",
       "      <td>6.2</td>\n",
       "      <td>2.8</td>\n",
       "      <td>10.0</td>\n",
       "      <td>8.6</td>\n",
       "      <td>0.0</td>\n",
       "      <td>12.2</td>\n",
       "      <td>1017.5</td>\n",
       "      <td>Muskegon County Airport</td>\n",
       "      <td>72636</td>\n",
       "    </tr>\n",
       "    <tr>\n",
       "      <th>2</th>\n",
       "      <td>2008-01-08</td>\n",
       "      <td>A</td>\n",
       "      <td>0.1</td>\n",
       "      <td>804</td>\n",
       "      <td>Cherokee National Forest</td>\n",
       "      <td>2008</td>\n",
       "      <td>2008-01-08</td>\n",
       "      <td>Arson/incendiarism</td>\n",
       "      <td>2008-01-08</td>\n",
       "      <td>36.412222</td>\n",
       "      <td>...</td>\n",
       "      <td>TN</td>\n",
       "      <td>11.3</td>\n",
       "      <td>1.1</td>\n",
       "      <td>21.7</td>\n",
       "      <td>0.0</td>\n",
       "      <td>0.0</td>\n",
       "      <td>7.9</td>\n",
       "      <td>1020.4</td>\n",
       "      <td>Bristol / Holston</td>\n",
       "      <td>72335</td>\n",
       "    </tr>\n",
       "    <tr>\n",
       "      <th>3</th>\n",
       "      <td>2008-01-02</td>\n",
       "      <td>N</td>\n",
       "      <td>0.0</td>\n",
       "      <td>807</td>\n",
       "      <td>National Forests in Mississippi</td>\n",
       "      <td>2008</td>\n",
       "      <td>2008-01-04</td>\n",
       "      <td>Recreation and ceremony</td>\n",
       "      <td>2008-01-05</td>\n",
       "      <td>30.929167</td>\n",
       "      <td>...</td>\n",
       "      <td>MS</td>\n",
       "      <td>1.1</td>\n",
       "      <td>-3.3</td>\n",
       "      <td>5.0</td>\n",
       "      <td>0.0</td>\n",
       "      <td>0.0</td>\n",
       "      <td>15.5</td>\n",
       "      <td>1039.6</td>\n",
       "      <td>Hattiesburg / Mars Hill</td>\n",
       "      <td>74759</td>\n",
       "    </tr>\n",
       "    <tr>\n",
       "      <th>4</th>\n",
       "      <td>2008-01-03</td>\n",
       "      <td>N</td>\n",
       "      <td>0.0</td>\n",
       "      <td>807</td>\n",
       "      <td>National Forests in Mississippi</td>\n",
       "      <td>2008</td>\n",
       "      <td>2008-01-04</td>\n",
       "      <td>Recreation and ceremony</td>\n",
       "      <td>2008-01-05</td>\n",
       "      <td>30.929167</td>\n",
       "      <td>...</td>\n",
       "      <td>MS</td>\n",
       "      <td>-1.0</td>\n",
       "      <td>-6.7</td>\n",
       "      <td>6.1</td>\n",
       "      <td>0.0</td>\n",
       "      <td>0.0</td>\n",
       "      <td>4.7</td>\n",
       "      <td>1042.0</td>\n",
       "      <td>Hattiesburg / Mars Hill</td>\n",
       "      <td>74759</td>\n",
       "    </tr>\n",
       "    <tr>\n",
       "      <th>...</th>\n",
       "      <td>...</td>\n",
       "      <td>...</td>\n",
       "      <td>...</td>\n",
       "      <td>...</td>\n",
       "      <td>...</td>\n",
       "      <td>...</td>\n",
       "      <td>...</td>\n",
       "      <td>...</td>\n",
       "      <td>...</td>\n",
       "      <td>...</td>\n",
       "      <td>...</td>\n",
       "      <td>...</td>\n",
       "      <td>...</td>\n",
       "      <td>...</td>\n",
       "      <td>...</td>\n",
       "      <td>...</td>\n",
       "      <td>...</td>\n",
       "      <td>...</td>\n",
       "      <td>...</td>\n",
       "      <td>...</td>\n",
       "      <td>...</td>\n",
       "    </tr>\n",
       "    <tr>\n",
       "      <th>1144531</th>\n",
       "      <td>2018-11-17</td>\n",
       "      <td>A</td>\n",
       "      <td>0.1</td>\n",
       "      <td>CTCTS</td>\n",
       "      <td>Connecticut Division of Forestry</td>\n",
       "      <td>2018</td>\n",
       "      <td>2018-11-17</td>\n",
       "      <td>Missing data/not specified/undetermined</td>\n",
       "      <td>2018-11-17</td>\n",
       "      <td>41.885375</td>\n",
       "      <td>...</td>\n",
       "      <td>CT</td>\n",
       "      <td>4.1</td>\n",
       "      <td>2.2</td>\n",
       "      <td>6.1</td>\n",
       "      <td>0.0</td>\n",
       "      <td>0.0</td>\n",
       "      <td>10.8</td>\n",
       "      <td>1020.4</td>\n",
       "      <td>Oxford / Southford</td>\n",
       "      <td>KOXC0</td>\n",
       "    </tr>\n",
       "    <tr>\n",
       "      <th>1144532</th>\n",
       "      <td>2018-12-11</td>\n",
       "      <td>N</td>\n",
       "      <td>0.0</td>\n",
       "      <td>CTCTS</td>\n",
       "      <td>Connecticut Division of Forestry</td>\n",
       "      <td>2018</td>\n",
       "      <td>2018-12-12</td>\n",
       "      <td>Missing data/not specified/undetermined</td>\n",
       "      <td>2018-12-12</td>\n",
       "      <td>41.985374</td>\n",
       "      <td>...</td>\n",
       "      <td>CT</td>\n",
       "      <td>-2.9</td>\n",
       "      <td>-9.4</td>\n",
       "      <td>2.2</td>\n",
       "      <td>0.0</td>\n",
       "      <td>0.0</td>\n",
       "      <td>4.3</td>\n",
       "      <td>1019.7</td>\n",
       "      <td>Oxford / Southford</td>\n",
       "      <td>KOXC0</td>\n",
       "    </tr>\n",
       "    <tr>\n",
       "      <th>1144533</th>\n",
       "      <td>2018-12-12</td>\n",
       "      <td>A</td>\n",
       "      <td>0.1</td>\n",
       "      <td>CTCTS</td>\n",
       "      <td>Connecticut Division of Forestry</td>\n",
       "      <td>2018</td>\n",
       "      <td>2018-12-12</td>\n",
       "      <td>Missing data/not specified/undetermined</td>\n",
       "      <td>2018-12-12</td>\n",
       "      <td>41.985374</td>\n",
       "      <td>...</td>\n",
       "      <td>CT</td>\n",
       "      <td>-1.1</td>\n",
       "      <td>-3.3</td>\n",
       "      <td>2.2</td>\n",
       "      <td>0.0</td>\n",
       "      <td>0.0</td>\n",
       "      <td>11.6</td>\n",
       "      <td>1020.2</td>\n",
       "      <td>Oxford / Southford</td>\n",
       "      <td>KOXC0</td>\n",
       "    </tr>\n",
       "    <tr>\n",
       "      <th>1144534</th>\n",
       "      <td>2018-04-22</td>\n",
       "      <td>N</td>\n",
       "      <td>0.0</td>\n",
       "      <td>CTCTS</td>\n",
       "      <td>Connecticut Division of Forestry</td>\n",
       "      <td>2018</td>\n",
       "      <td>2018-04-23</td>\n",
       "      <td>Missing data/not specified/undetermined</td>\n",
       "      <td>2018-04-23</td>\n",
       "      <td>41.435494</td>\n",
       "      <td>...</td>\n",
       "      <td>CT</td>\n",
       "      <td>9.7</td>\n",
       "      <td>1.7</td>\n",
       "      <td>15.6</td>\n",
       "      <td>0.0</td>\n",
       "      <td>0.0</td>\n",
       "      <td>14.7</td>\n",
       "      <td>1029.4</td>\n",
       "      <td>Oxford / Southford</td>\n",
       "      <td>KOXC0</td>\n",
       "    </tr>\n",
       "    <tr>\n",
       "      <th>1144535</th>\n",
       "      <td>2018-04-23</td>\n",
       "      <td>A</td>\n",
       "      <td>0.1</td>\n",
       "      <td>CTCTS</td>\n",
       "      <td>Connecticut Division of Forestry</td>\n",
       "      <td>2018</td>\n",
       "      <td>2018-04-23</td>\n",
       "      <td>Missing data/not specified/undetermined</td>\n",
       "      <td>2018-04-23</td>\n",
       "      <td>41.435494</td>\n",
       "      <td>...</td>\n",
       "      <td>CT</td>\n",
       "      <td>10.4</td>\n",
       "      <td>3.3</td>\n",
       "      <td>17.8</td>\n",
       "      <td>0.0</td>\n",
       "      <td>0.0</td>\n",
       "      <td>10.2</td>\n",
       "      <td>1032.2</td>\n",
       "      <td>Oxford / Southford</td>\n",
       "      <td>KOXC0</td>\n",
       "    </tr>\n",
       "  </tbody>\n",
       "</table>\n",
       "<p>1144536 rows × 21 columns</p>\n",
       "</div>"
      ],
      "text/plain": [
       "               Date FIRE_SIZE_CLASS  FIRE_SIZE SOURCE_REPORTING_UNIT  \\\n",
       "0        2008-04-07               N        0.0                   904   \n",
       "1        2008-04-08               A        0.1                   904   \n",
       "2        2008-01-08               A        0.1                   804   \n",
       "3        2008-01-02               N        0.0                   807   \n",
       "4        2008-01-03               N        0.0                   807   \n",
       "...             ...             ...        ...                   ...   \n",
       "1144531  2018-11-17               A        0.1                 CTCTS   \n",
       "1144532  2018-12-11               N        0.0                 CTCTS   \n",
       "1144533  2018-12-12               A        0.1                 CTCTS   \n",
       "1144534  2018-04-22               N        0.0                 CTCTS   \n",
       "1144535  2018-04-23               A        0.1                 CTCTS   \n",
       "\n",
       "               SOURCE_REPORTING_UNIT_NAME  FIRE_YEAR DISCOVERY_DATE  \\\n",
       "0          Huron-Manistee National Forest       2008     2008-04-08   \n",
       "1          Huron-Manistee National Forest       2008     2008-04-08   \n",
       "2                Cherokee National Forest       2008     2008-01-08   \n",
       "3         National Forests in Mississippi       2008     2008-01-04   \n",
       "4         National Forests in Mississippi       2008     2008-01-04   \n",
       "...                                   ...        ...            ...   \n",
       "1144531  Connecticut Division of Forestry       2018     2018-11-17   \n",
       "1144532  Connecticut Division of Forestry       2018     2018-12-12   \n",
       "1144533  Connecticut Division of Forestry       2018     2018-12-12   \n",
       "1144534  Connecticut Division of Forestry       2018     2018-04-23   \n",
       "1144535  Connecticut Division of Forestry       2018     2018-04-23   \n",
       "\n",
       "                              NWCG_GENERAL_CAUSE   CONT_DATE   LATITUDE  ...  \\\n",
       "0        Missing data/not specified/undetermined  2008-04-08  44.566389  ...   \n",
       "1        Missing data/not specified/undetermined  2008-04-08  44.566389  ...   \n",
       "2                             Arson/incendiarism  2008-01-08  36.412222  ...   \n",
       "3                        Recreation and ceremony  2008-01-05  30.929167  ...   \n",
       "4                        Recreation and ceremony  2008-01-05  30.929167  ...   \n",
       "...                                          ...         ...        ...  ...   \n",
       "1144531  Missing data/not specified/undetermined  2018-11-17  41.885375  ...   \n",
       "1144532  Missing data/not specified/undetermined  2018-12-12  41.985374  ...   \n",
       "1144533  Missing data/not specified/undetermined  2018-12-12  41.985374  ...   \n",
       "1144534  Missing data/not specified/undetermined  2018-04-23  41.435494  ...   \n",
       "1144535  Missing data/not specified/undetermined  2018-04-23  41.435494  ...   \n",
       "\n",
       "         STATE  tavg  tmin  tmax  prcp  snow  wspd    pres  \\\n",
       "0           MI   8.3   2.2  12.2   0.0   0.0  19.1  1013.0   \n",
       "1           MI   6.2   2.8  10.0   8.6   0.0  12.2  1017.5   \n",
       "2           TN  11.3   1.1  21.7   0.0   0.0   7.9  1020.4   \n",
       "3           MS   1.1  -3.3   5.0   0.0   0.0  15.5  1039.6   \n",
       "4           MS  -1.0  -6.7   6.1   0.0   0.0   4.7  1042.0   \n",
       "...        ...   ...   ...   ...   ...   ...   ...     ...   \n",
       "1144531     CT   4.1   2.2   6.1   0.0   0.0  10.8  1020.4   \n",
       "1144532     CT  -2.9  -9.4   2.2   0.0   0.0   4.3  1019.7   \n",
       "1144533     CT  -1.1  -3.3   2.2   0.0   0.0  11.6  1020.2   \n",
       "1144534     CT   9.7   1.7  15.6   0.0   0.0  14.7  1029.4   \n",
       "1144535     CT  10.4   3.3  17.8   0.0   0.0  10.2  1032.2   \n",
       "\n",
       "                         Station Station_id  \n",
       "0        Muskegon County Airport      72636  \n",
       "1        Muskegon County Airport      72636  \n",
       "2              Bristol / Holston      72335  \n",
       "3        Hattiesburg / Mars Hill      74759  \n",
       "4        Hattiesburg / Mars Hill      74759  \n",
       "...                          ...        ...  \n",
       "1144531       Oxford / Southford      KOXC0  \n",
       "1144532       Oxford / Southford      KOXC0  \n",
       "1144533       Oxford / Southford      KOXC0  \n",
       "1144534       Oxford / Southford      KOXC0  \n",
       "1144535       Oxford / Southford      KOXC0  \n",
       "\n",
       "[1144536 rows x 21 columns]"
      ]
     },
     "execution_count": 15,
     "metadata": {},
     "output_type": "execute_result"
    }
   ],
   "source": [
    "# Checking if import worked\n",
    "df"
   ]
  },
  {
   "cell_type": "markdown",
   "id": "ad16a53c",
   "metadata": {},
   "source": [
    "# Numerical Analysis\n",
    "\n",
    "I am performing the descriptive statistics for the numerical columns and counting the total number of unique values present in the categorical columns."
   ]
  },
  {
   "cell_type": "code",
   "execution_count": 4,
   "id": "960cbde8",
   "metadata": {},
   "outputs": [
    {
     "data": {
      "text/plain": [
       "(          FIRE_SIZE     FIRE_YEAR      LATITUDE     LONGITUDE          tavg  \\\n",
       " count  1.144536e+06  1.144536e+06  1.144536e+06  1.144536e+06  1.144307e+06   \n",
       " mean   7.620608e+02  2.013016e+03  4.103895e+01 -1.055192e+02  1.704467e+01   \n",
       " std    9.649255e+03  3.166621e+00  6.832912e+00  1.744618e+01  8.483572e+00   \n",
       " min    0.000000e+00  2.008000e+03  1.795528e+01 -1.644497e+02 -4.320000e+01   \n",
       " 25%    0.000000e+00  2.010000e+03  3.584972e+01 -1.180978e+02  1.190000e+01   \n",
       " 50%    0.000000e+00  2.013000e+03  4.069750e+01 -1.100644e+02  1.770000e+01   \n",
       " 75%    8.900000e-01  2.016000e+03  4.585537e+01 -8.909392e+01  2.320000e+01   \n",
       " max    5.581983e+05  2.018000e+03  6.840936e+01 -6.527361e+01  4.180000e+01   \n",
       " \n",
       "                tmin          tmax          prcp          snow          wspd  \\\n",
       " count  1.144536e+06  1.144536e+06  1.144536e+06  1.144536e+06  1.144536e+06   \n",
       " mean   9.497718e+00  2.452170e+01  4.492427e-01  2.220832e+00  1.091503e+01   \n",
       " std    8.313767e+00  9.317710e+00  2.677022e+00  2.850723e+01  5.574509e+00   \n",
       " min   -4.610000e+01 -4.050000e+01  0.000000e+00  0.000000e+00  0.000000e+00   \n",
       " 25%    4.400000e+00  1.830000e+01  0.000000e+00  0.000000e+00  7.100000e+00   \n",
       " 50%    1.000000e+01  2.560000e+01  0.000000e+00  0.000000e+00  1.010000e+01   \n",
       " 75%    1.500000e+01  3.170000e+01  0.000000e+00  0.000000e+00  1.370000e+01   \n",
       " max    3.610000e+01  5.440000e+01  3.810000e+02  8.100000e+02  6.590000e+01   \n",
       " \n",
       "                pres  \n",
       " count  1.144536e+06  \n",
       " mean   1.015733e+03  \n",
       " std    6.052507e+00  \n",
       " min    9.626000e+02  \n",
       " 25%    1.011800e+03  \n",
       " 50%    1.015300e+03  \n",
       " 75%    1.019400e+03  \n",
       " max    1.053900e+03  ,\n",
       " Date                          5332\n",
       " FIRE_SIZE_CLASS                  8\n",
       " SOURCE_REPORTING_UNIT         2892\n",
       " SOURCE_REPORTING_UNIT_NAME    1537\n",
       " DISCOVERY_DATE                4007\n",
       " NWCG_GENERAL_CAUSE              13\n",
       " CONT_DATE                     4025\n",
       " STATE                           51\n",
       " Station                        497\n",
       " Station_id                     497\n",
       " dtype: int64)"
      ]
     },
     "execution_count": 4,
     "metadata": {},
     "output_type": "execute_result"
    }
   ],
   "source": [
    "# Descriptive statistics for numerical columns\n",
    "numerical_summary = df.describe()\n",
    "\n",
    "# Count of unique values for categorical columns\n",
    "categorical_columns = df.select_dtypes(include=['object']).columns\n",
    "unique_counts = df[categorical_columns].nunique()\n",
    "\n",
    "numerical_summary, unique_counts\n"
   ]
  },
  {
   "cell_type": "code",
   "execution_count": 17,
   "id": "a4579889",
   "metadata": {},
   "outputs": [
    {
     "name": "stdout",
     "output_type": "stream",
     "text": [
      "    Count\n",
      "N  576118\n",
      "A  221871\n",
      "B  188191\n",
      "C   66322\n",
      "F   23650\n",
      "D   23604\n",
      "G   22907\n",
      "E   21873\n"
     ]
    }
   ],
   "source": [
    "# Creating a subset\n",
    "category_counts = df['FIRE_SIZE_CLASS'].value_counts()\n",
    "\n",
    "# Create a DataFrame to display the counts\n",
    "counts_df = pd.DataFrame(category_counts)\n",
    "counts_df.columns = ['Count']\n",
    "\n",
    "print(counts_df)"
   ]
  },
  {
   "cell_type": "markdown",
   "id": "906f5f1d",
   "metadata": {},
   "source": [
    "# Graphical Analysis\n",
    "The following is the graphical analysis for the dataset. This will give a breif idea of the distribution of data and revel any hidden relations."
   ]
  },
  {
   "cell_type": "code",
   "execution_count": 4,
   "id": "a2cfd056",
   "metadata": {},
   "outputs": [
    {
     "data": {
      "image/png": "[encoded data removed]",
      "text/plain": [
       "<Figure size 864x432 with 1 Axes>"
      ]
     },
     "metadata": {
      "needs_background": "light"
     },
     "output_type": "display_data"
    }
   ],
   "source": [
    "# Fire size log\n",
    "color_to_use = \"#8A4D1E\"\n",
    "\n",
    "# Plotting the distributi1on of FIRE_SIZE with log scale for x-axis\n",
    "plt.figure(figsize=(12, 6))\n",
    "sns.histplot(df[df['FIRE_SIZE'] > 0]['FIRE_SIZE'], bins=100, log_scale=True, color=color_to_use)\n",
    "plt.title(\"Distribution of FIRE_SIZE (Log Scale for X-axis)\")\n",
    "plt.xlabel(\"FIRE_SIZE (Log Scale)\")\n",
    "plt.ylabel(\"Count\")\n",
    "plt.savefig(\"Plots/Fires_size_log.png\", dpi=500,transparent=True)\n",
    "\n",
    "plt.show()\n"
   ]
  },
  {
   "cell_type": "code",
   "execution_count": 5,
   "id": "425efa01",
   "metadata": {},
   "outputs": [
    {
     "data": {
      "image/png": "[encoded data removed]",
      "text/plain": [
       "<Figure size 864x432 with 1 Axes>"
      ]
     },
     "metadata": {
      "needs_background": "light"
     },
     "output_type": "display_data"
    }
   ],
   "source": [
    "# Plotting the distribution of atmospheric pressure (pres)\n",
    "color_to_use = \"#AA5C1E\"  # Replace with your desired color\n",
    "\n",
    "plt.figure(figsize=(12, 6))\n",
    "sns.histplot(df['pres'], bins=100, color=color_to_use)\n",
    "plt.title(\"Distribution of Atmospheric Pressure (pres)\")\n",
    "plt.xlabel(\"Atmospheric Pressure\")\n",
    "plt.ylabel(\"Count\")\n",
    "plt.savefig(\"Plots/Pres_Histogram.png\", dpi=500,transparent=True)\n",
    "\n",
    "plt.show()\n"
   ]
  },
  {
   "cell_type": "code",
   "execution_count": 6,
   "id": "1ae9d3c1",
   "metadata": {},
   "outputs": [
    {
     "data": {
      "image/png": "[encoded data removed]",
      "text/plain": [
       "<Figure size 864x576 with 1 Axes>"
      ]
     },
     "metadata": {
      "needs_background": "light"
     },
     "output_type": "display_data"
    }
   ],
   "source": [
    "# Choosing the meteorological values\n",
    "data_to_plot = [df['tavg'].dropna(), df['tmin'].dropna(), df['tmax'].dropna()]\n",
    "\n",
    "color_palette = [\"#1B140F\", \"#C93912\", \"#FAD028\"]  # Choosing palette\n",
    "\n",
    "plt.figure(figsize=(12, 8))\n",
    "sns.violinplot(data=data_to_plot, palette=color_palette)\n",
    "\n",
    "# Setting titles and labels\n",
    "plt.title(\"Violin Plots of Temperatures (tavg, tmin, tmax)\")\n",
    "plt.xticks([0, 1, 2], ['Average Temperature (tavg)', 'Minimum Temperature (tmin)', 'Maximum Temperature (tmax)'])\n",
    "plt.ylabel(\"Temperature\")\n",
    "\n",
    "# Save the plot with a higher resolution \n",
    "plt.savefig(\"Plots/Temp_Violin_Plots.png\", dpi=500,transparent=True)  \n",
    "\n",
    "plt.show()"
   ]
  },
  {
   "cell_type": "code",
   "execution_count": 7,
   "id": "cc264eca",
   "metadata": {},
   "outputs": [
    {
     "data": {
      "image/png": "[encoded data removed]",
      "text/plain": [
       "<Figure size 864x432 with 1 Axes>"
      ]
     },
     "metadata": {
      "needs_background": "light"
     },
     "output_type": "display_data"
    }
   ],
   "source": [
    "color_to_use = \"#E48921\"\n",
    "# Plotting the distribution of wind speed (wspd)\n",
    "plt.figure(figsize=(12, 6))\n",
    "sns.histplot(df['wspd'], bins=100, color=color_to_use)\n",
    "plt.title(\"Distribution of Wind Speed (wspd)\")\n",
    "plt.xlabel(\"Wind Speed\")\n",
    "plt.ylabel(\"Count\")\n",
    "plt.savefig(\"Plots/Wind_Histogram.png\", dpi=500,transparent=True)\n",
    "plt.show()\n"
   ]
  },
  {
   "cell_type": "code",
   "execution_count": 8,
   "id": "e1da3525",
   "metadata": {},
   "outputs": [
    {
     "data": {
      "image/png": "[encoded data removed]",
      "text/plain": [
       "<Figure size 864x432 with 1 Axes>"
      ]
     },
     "metadata": {
      "needs_background": "light"
     },
     "output_type": "display_data"
    }
   ],
   "source": [
    "# Define the gradient palette\n",
    "custom_palette = [\"#1B140F\", \"#3D301E\", \"#43190E\", \"#644423\", \"#8A4D1E\", \"#AA5C1E\", \"#C93912\", \"#E48921\", \"#FAD028\"]\n",
    "\n",
    "plt.figure(figsize=(12, 6))\n",
    "sns.countplot(data=df, x='FIRE_YEAR', palette=custom_palette)\n",
    "plt.title(\"Number of Fire Occurrences by Year\")\n",
    "plt.xlabel(\"Year\")\n",
    "plt.ylabel(\"Number of Fires\")\n",
    "plt.savefig(\"Plots/Fire_Occurances.png\", dpi=500,transparent=True)\n",
    "\n",
    "plt.show()\n"
   ]
  },
  {
   "cell_type": "code",
   "execution_count": 9,
   "id": "6981d7df",
   "metadata": {},
   "outputs": [
    {
     "data": {
      "image/png": "[encoded data removed]",
      "text/plain": [
       "<Figure size 864x432 with 1 Axes>"
      ]
     },
     "metadata": {
      "needs_background": "light"
     },
     "output_type": "display_data"
    }
   ],
   "source": [
    "custom_palette = [\"#1B140F\", \"#3D301E\", \"#43190E\", \"#644423\", \"#8A4D1E\", \"#AA5C1E\", \"#C93912\", \"#E48921\", \"#FAD028\"]\n",
    "# Plotting the top 10 states with the highest number of fire occurrences\n",
    "plt.figure(figsize=(12, 6))\n",
    "state_counts = df['STATE'].value_counts().head(10)\n",
    "sns.barplot(x=state_counts.index, y=state_counts.values, palette=custom_palette)\n",
    "plt.title(\"Top 10 States with the Highest Number of Fire Occurrences\")\n",
    "plt.xlabel(\"State\")\n",
    "plt.ylabel(\"Number of Fires\")\n",
    "plt.savefig(\"Plots/Number_of_Occurences.png\", dpi=500,transparent=True)\n",
    "\n",
    "plt.show()\n"
   ]
  },
  {
   "cell_type": "code",
   "execution_count": 10,
   "id": "bfea8aea",
   "metadata": {},
   "outputs": [
    {
     "data": {
      "image/png": "[encoded data removed]",
      "text/plain": [
       "<Figure size 1080x864 with 2 Axes>"
      ]
     },
     "metadata": {
      "needs_background": "light"
     },
     "output_type": "display_data"
    }
   ],
   "source": [
    "\n",
    "# Calculating the correlation for all variables\n",
    "custom_palette = [\"#1B140F\", \"#3D301E\", \"#43190E\", \"#644423\", \"#8A4D1E\", \"#AA5C1E\", \"#C93912\", \"#E48921\", \"#FAD028\"]\n",
    "\n",
    "all_variables_correlation = df.corr()\n",
    "\n",
    "# Plotting the correlation heatmap\n",
    "plt.figure(figsize=(15, 12))\n",
    "sns.heatmap(all_variables_correlation, annot=True, cmap=custom_palette, center=0, linewidths=0.5, linecolor='black')\n",
    "plt.title(\"Correlation Heatmap for All Variables\")\n",
    "plt.savefig(\"Plots/Corr_Heatmap.png\", dpi=500,transparent=True)\n",
    "\n",
    "plt.show()\n"
   ]
  },
  {
   "cell_type": "code",
   "execution_count": 11,
   "id": "062ed4d4",
   "metadata": {},
   "outputs": [
    {
     "data": {
      "image/png": "[encoded data removed]",
      "text/plain": [
       "<Figure size 864x432 with 1 Axes>"
      ]
     },
     "metadata": {
      "needs_background": "light"
     },
     "output_type": "display_data"
    }
   ],
   "source": [
    "# Extracting the month from the Date column\n",
    "df['Month'] = pd.to_datetime(df['Date']).dt.month\n",
    "custom_palette = [\"#1B140F\", \"#3D301E\", \"#43190E\", \"#644423\", \"#8A4D1E\", \"#AA5C1E\", \"#C93912\", \"#E48921\", \"#FAD028\"]\n",
    "\n",
    "# Plotting the monthly distribution of fires\n",
    "plt.figure(figsize=(12, 6))\n",
    "sns.countplot(data=df, x='Month', palette=custom_palette, order=range(1,13))\n",
    "plt.title(\"Monthly Distribution of Fires\")\n",
    "plt.xlabel(\"Month\")\n",
    "plt.ylabel(\"Number of Fires\")\n",
    "plt.xticks(ticks=range(0,12), labels=['Jan', 'Feb', 'Mar', 'Apr', 'May', 'Jun', 'Jul', 'Aug', 'Sep', 'Oct', 'Nov', 'Dec'])\n",
    "plt.savefig(\"Plots/Montly_Distribution.png\", dpi=500,transparent=True)\n",
    "\n",
    "plt.show()\n"
   ]
  },
  {
   "cell_type": "code",
   "execution_count": 12,
   "id": "f9be73cd",
   "metadata": {},
   "outputs": [
    {
     "data": {
      "image/png": "[encoded data removed]",
      "text/plain": [
       "<Figure size 1080x576 with 1 Axes>"
      ]
     },
     "metadata": {
      "needs_background": "light"
     },
     "output_type": "display_data"
    }
   ],
   "source": [
    "custom_palette = [\"#1B140F\", \"#3D301E\", \"#43190E\", \"#644423\", \"#8A4D1E\", \"#AA5C1E\", \"#C93912\", \"#E48921\", \"#FAD028\"]\n",
    "\n",
    "# Plotting the distribution of fire occurrences by their cause\n",
    "plt.figure(figsize=(15, 8))\n",
    "sns.countplot(data=df, y='NWCG_GENERAL_CAUSE', palette=custom_palette, order=df['NWCG_GENERAL_CAUSE'].value_counts().index)\n",
    "plt.title(\"Fire Occurrences by Cause\")\n",
    "plt.xlabel(\"Number of Fires\")\n",
    "plt.ylabel(\"Cause\")\n",
    "plt.savefig(\"Plots/Fire_Causes.jpeg\", dpi=500,transparent=True)\n",
    "\n",
    "plt.show()\n"
   ]
  },
  {
   "cell_type": "code",
   "execution_count": 16,
   "id": "3c0d17b5",
   "metadata": {},
   "outputs": [
    {
     "data": {
      "image/png": "[encoded data removed]",
      "text/plain": [
       "<Figure size 864x576 with 1 Axes>"
      ]
     },
     "metadata": {
      "needs_background": "light"
     },
     "output_type": "display_data"
    }
   ],
   "source": [
    "# Calculating the average fire size by state\n",
    "avg_fire_size_by_state = df.groupby('STATE')['FIRE_SIZE'].mean().sort_values(ascending=False)\n",
    "custom_palette = [\"#1B140F\", \"#3D301E\", \"#43190E\", \"#644423\", \"#8A4D1E\", \"#AA5C1E\", \"#C93912\", \"#E48921\", \"#FAD028\"]\n",
    "\n",
    "# Plotting the average fire size by state for the top 10 states\n",
    "plt.figure(figsize=(12, 8))\n",
    "sns.barplot(x=avg_fire_size_by_state.head(10).index, y=avg_fire_size_by_state.head(10).values, palette=custom_palette)\n",
    "plt.title(\"Top 10 States by Average Fire Size\")\n",
    "plt.xlabel(\"State\")\n",
    "plt.ylabel(\"Average Fire Size\")\n",
    "\n",
    "plt.savefig(\"Plots/Avg_Fire_Size.png\", dpi=500,transparent=True)\n",
    "\n",
    "plt.show()\n"
   ]
  },
  {
   "cell_type": "markdown",
   "id": "60b3f0e0",
   "metadata": {},
   "source": [
    "Creating a subset for the next plot."
   ]
  },
  {
   "cell_type": "code",
   "execution_count": 15,
   "id": "f1bea21f",
   "metadata": {},
   "outputs": [],
   "source": [
    "# Calculating the average wind speed by fire size class\n",
    "avg_wind_by_size_class = df.groupby('FIRE_SIZE_CLASS')['wspd'].mean()"
   ]
  },
  {
   "cell_type": "code",
   "execution_count": 16,
   "id": "4ebabc2b",
   "metadata": {},
   "outputs": [
    {
     "data": {
      "image/png": "[encoded data removed]",
      "text/plain": [
       "<Figure size 720x504 with 1 Axes>"
      ]
     },
     "metadata": {},
     "output_type": "display_data"
    }
   ],
   "source": [
    "# Plotting the average wind speed by fire size class as a pie chart\n",
    "plt.figure(figsize=(10, 7))\n",
    "avg_wind_by_size_class.sort_values(ascending=False).plot(kind='pie', autopct='%1.1f%%', startangle=140, cmap=\"viridis\")\n",
    "plt.title(\"Average Wind Speed by Fire Size Class\")\n",
    "plt.ylabel(\"\")  # Removing the y-label for clarity\n",
    "plt.show()"
   ]
  },
  {
   "cell_type": "code",
   "execution_count": 17,
   "id": "bdf4ccba",
   "metadata": {},
   "outputs": [
    {
     "data": {
      "image/png": "[encoded data removed]",
      "text/plain": [
       "<Figure size 864x576 with 1 Axes>"
      ]
     },
     "metadata": {},
     "output_type": "display_data"
    }
   ],
   "source": [
    "# Define the custom gradient palette\n",
    "custom_palette = [\"#FAD028\",\"#E48921\" ,\"#C93912\", \"#3D301E\", \"#43190E\", \"#644423\", \"#8A4D1E\", \"#AA5C1E\" ]\n",
    "\n",
    "fire_size_class_distribution = df['FIRE_SIZE_CLASS'].value_counts()\n",
    "\n",
    "# Plotting the distribution of fire_size_class as a pie chart with custom colors\n",
    "plt.figure(figsize=(12, 8))\n",
    "plt.pie(fire_size_class_distribution, labels=fire_size_class_distribution.index, autopct='%1.1f%%', startangle=140, \n",
    "        colors=custom_palette, wedgeprops=dict(width=0.3), pctdistance=0.85, labeldistance=1.1)\n",
    "plt.title(\"Distribution of Fire Size Class\")\n",
    "plt.ylabel(\"\")  # Removing the y-label for clarity\n",
    "plt.savefig(\"Plots/Class_Distribution.png\", dpi=500,transparent=True)\n",
    "\n",
    "plt.show()"
   ]
  },
  {
   "cell_type": "code",
   "execution_count": 25,
   "id": "0735f931",
   "metadata": {},
   "outputs": [
    {
     "data": {
      "application/vnd.plotly.v1+json": {
       "config": {
        "plotlyServerURL": "https://plot.ly"
       },
       "data": [
        {
         "autocolorscale": false,
         "colorbar": {
          "title": {
           "text": "Average Fire Sizes (acres)"
          }
         },
         "colorscale": [
          [
           0,
           "#1B140F"
          ],
          [
           0.125,
           "#3D301E"
          ],
          [
           0.25,
           "#43190E"
          ],
          [
           0.375,
           "#644423"
          ],
          [
           0.5,
           "#8A4D1E"
          ],
          [
           0.625,
           "#AA5C1E"
          ],
          [
           0.75,
           "#C93912"
          ],
          [
           0.875,
           "#E48921"
          ],
          [
           1,
           "#FAD028"
          ]
         ],
         "locationmode": "USA-states",
         "locations": [
          "NV",
          "CA",
          "TX",
          "AK",
          "WY",
          "NM",
          "ID",
          "OR",
          "MT",
          "UT",
          "AZ",
          "VA",
          "HI",
          "FL",
          "CO",
          "OK",
          "NE",
          "WA",
          "KS",
          "LA",
          "GA",
          "SD",
          "MS",
          "NC",
          "KY",
          "PR",
          "TN",
          "SC",
          "WV",
          "MN",
          "MI",
          "PA",
          "AR",
          "AL",
          "ND",
          "MO",
          "IA",
          "IN",
          "MD",
          "CT",
          "IL",
          "OH",
          "NY",
          "DE",
          "NH",
          "NJ",
          "WI",
          "MA",
          "ME",
          "RI",
          "DC"
         ],
         "marker": {
          "line": {
           "color": "white"
          }
         },
         "text": "Fire Sizes",
         "type": "choropleth",
         "z": [
          2057.5707811002358,
          2024.6884260188476,
          1566.9677833954381,
          1540.9737104161852,
          1524.909614634794,
          1414.3920079516445,
          1395.3961313161426,
          1284.7522172083354,
          1042.2732284820395,
          918.5654305715734,
          826.0973545673792,
          719.4765672990092,
          713.2750000000002,
          706.1447100278241,
          461.2638282609502,
          322.9795747126437,
          246.00307877291056,
          221.0513771827385,
          166.72458388878053,
          161.71922363510717,
          133.93507533854657,
          128.3320869476464,
          126.75831341301335,
          100.0720647542234,
          57.9652254641909,
          43.742891566265044,
          42.69500527393849,
          25.616486090775982,
          22.505057324841225,
          22.04888297872323,
          20.67672235723003,
          20.00147962405251,
          17.18329036635007,
          14.35164940074369,
          13.191782379783028,
          12.232424251069917,
          12.004,
          8.216954022988498,
          7.4080958125103695,
          5.658404255319127,
          5.047767578125012,
          4.99523147074745,
          3.6404487175785065,
          1.9507042253521127,
          1.8698687782805425,
          1.355018122734659,
          1.0994488317468836,
          0.9013743166778927,
          0.7936138175376379,
          0.3878290993071586,
          0.28703703703703703
         ],
         "zmax": 2057.5707811002358,
         "zmin": 0
        },
        {
         "locationmode": "USA-states",
         "locations": [
          "NV",
          "CA",
          "TX",
          "AK",
          "WY",
          "NM",
          "ID",
          "OR",
          "MT",
          "UT",
          "AZ",
          "VA",
          "HI",
          "FL",
          "CO",
          "OK",
          "NE",
          "WA",
          "KS",
          "LA",
          "GA",
          "SD",
          "MS",
          "NC",
          "KY",
          "PR",
          "TN",
          "SC",
          "WV",
          "MN",
          "MI",
          "PA",
          "AR",
          "AL",
          "ND",
          "MO",
          "IA",
          "IN",
          "MD",
          "CT",
          "IL",
          "OH",
          "NY",
          "DE",
          "NH",
          "NJ",
          "WI",
          "MA",
          "ME",
          "RI",
          "DC"
         ],
         "mode": "text",
         "text": [
          "NV",
          "CA",
          "TX",
          "AK",
          "WY",
          "NM",
          "ID",
          "OR",
          "MT",
          "UT",
          "AZ",
          "VA",
          "HI",
          "FL",
          "CO",
          "OK",
          "NE",
          "WA",
          "KS",
          "LA",
          "GA",
          "SD",
          "MS",
          "NC",
          "KY",
          "PR",
          "TN",
          "SC",
          "WV",
          "MN",
          "MI",
          "PA",
          "AR",
          "AL",
          "ND",
          "MO",
          "IA",
          "IN",
          "MD",
          "CT",
          "IL",
          "OH",
          "NY",
          "DE",
          "NH",
          "NJ",
          "WI",
          "MA",
          "ME",
          "RI",
          "DC"
         ],
         "textfont": {
          "color": "white"
         },
         "type": "scattergeo"
        }
       ],
       "layout": {
        "geo": {
         "bgcolor": "rgba(0,0,0,0)",
         "lakecolor": "rgba(0,0,0,0)",
         "landcolor": "rgba(0,0,0,0)",
         "projection": {
          "type": "albers usa"
         },
         "scope": "usa",
         "showlakes": true
        },
        "paper_bgcolor": "rgba(0,0,0,0)",
        "plot_bgcolor": "rgba(0,0,0,0)",
        "template": {
         "data": {
          "bar": [
           {
            "error_x": {
             "color": "#2a3f5f"
            },
            "error_y": {
             "color": "#2a3f5f"
            },
            "marker": {
             "line": {
              "color": "#E5ECF6",
              "width": 0.5
             },
             "pattern": {
              "fillmode": "overlay",
              "size": 10,
              "solidity": 0.2
             }
            },
            "type": "bar"
           }
          ],
          "barpolar": [
           {
            "marker": {
             "line": {
              "color": "#E5ECF6",
              "width": 0.5
             },
             "pattern": {
              "fillmode": "overlay",
              "size": 10,
              "solidity": 0.2
             }
            },
            "type": "barpolar"
           }
          ],
          "carpet": [
           {
            "aaxis": {
             "endlinecolor": "#2a3f5f",
             "gridcolor": "white",
             "linecolor": "white",
             "minorgridcolor": "white",
             "startlinecolor": "#2a3f5f"
            },
            "baxis": {
             "endlinecolor": "#2a3f5f",
             "gridcolor": "white",
             "linecolor": "white",
             "minorgridcolor": "white",
             "startlinecolor": "#2a3f5f"
            },
            "type": "carpet"
           }
          ],
          "choropleth": [
           {
            "colorbar": {
             "outlinewidth": 0,
             "ticks": ""
            },
            "type": "choropleth"
           }
          ],
          "contour": [
           {
            "colorbar": {
             "outlinewidth": 0,
             "ticks": ""
            },
            "colorscale": [
             [
              0,
              "#0d0887"
             ],
             [
              0.1111111111111111,
              "#46039f"
             ],
             [
              0.2222222222222222,
              "#7201a8"
             ],
             [
              0.3333333333333333,
              "#9c179e"
             ],
             [
              0.4444444444444444,
              "#bd3786"
             ],
             [
              0.5555555555555556,
              "#d8576b"
             ],
             [
              0.6666666666666666,
              "#ed7953"
             ],
             [
              0.7777777777777778,
              "#fb9f3a"
             ],
             [
              0.8888888888888888,
              "#fdca26"
             ],
             [
              1,
              "#f0f921"
             ]
            ],
            "type": "contour"
           }
          ],
          "contourcarpet": [
           {
            "colorbar": {
             "outlinewidth": 0,
             "ticks": ""
            },
            "type": "contourcarpet"
           }
          ],
          "heatmap": [
           {
            "colorbar": {
             "outlinewidth": 0,
             "ticks": ""
            },
            "colorscale": [
             [
              0,
              "#0d0887"
             ],
             [
              0.1111111111111111,
              "#46039f"
             ],
             [
              0.2222222222222222,
              "#7201a8"
             ],
             [
              0.3333333333333333,
              "#9c179e"
             ],
             [
              0.4444444444444444,
              "#bd3786"
             ],
             [
              0.5555555555555556,
              "#d8576b"
             ],
             [
              0.6666666666666666,
              "#ed7953"
             ],
             [
              0.7777777777777778,
              "#fb9f3a"
             ],
             [
              0.8888888888888888,
              "#fdca26"
             ],
             [
              1,
              "#f0f921"
             ]
            ],
            "type": "heatmap"
           }
          ],
          "heatmapgl": [
           {
            "colorbar": {
             "outlinewidth": 0,
             "ticks": ""
            },
            "colorscale": [
             [
              0,
              "#0d0887"
             ],
             [
              0.1111111111111111,
              "#46039f"
             ],
             [
              0.2222222222222222,
              "#7201a8"
             ],
             [
              0.3333333333333333,
              "#9c179e"
             ],
             [
              0.4444444444444444,
              "#bd3786"
             ],
             [
              0.5555555555555556,
              "#d8576b"
             ],
             [
              0.6666666666666666,
              "#ed7953"
             ],
             [
              0.7777777777777778,
              "#fb9f3a"
             ],
             [
              0.8888888888888888,
              "#fdca26"
             ],
             [
              1,
              "#f0f921"
             ]
            ],
            "type": "heatmapgl"
           }
          ],
          "histogram": [
           {
            "marker": {
             "pattern": {
              "fillmode": "overlay",
              "size": 10,
              "solidity": 0.2
             }
            },
            "type": "histogram"
           }
          ],
          "histogram2d": [
           {
            "colorbar": {
             "outlinewidth": 0,
             "ticks": ""
            },
            "colorscale": [
             [
              0,
              "#0d0887"
             ],
             [
              0.1111111111111111,
              "#46039f"
             ],
             [
              0.2222222222222222,
              "#7201a8"
             ],
             [
              0.3333333333333333,
              "#9c179e"
             ],
             [
              0.4444444444444444,
              "#bd3786"
             ],
             [
              0.5555555555555556,
              "#d8576b"
             ],
             [
              0.6666666666666666,
              "#ed7953"
             ],
             [
              0.7777777777777778,
              "#fb9f3a"
             ],
             [
              0.8888888888888888,
              "#fdca26"
             ],
             [
              1,
              "#f0f921"
             ]
            ],
            "type": "histogram2d"
           }
          ],
          "histogram2dcontour": [
           {
            "colorbar": {
             "outlinewidth": 0,
             "ticks": ""
            },
            "colorscale": [
             [
              0,
              "#0d0887"
             ],
             [
              0.1111111111111111,
              "#46039f"
             ],
             [
              0.2222222222222222,
              "#7201a8"
             ],
             [
              0.3333333333333333,
              "#9c179e"
             ],
             [
              0.4444444444444444,
              "#bd3786"
             ],
             [
              0.5555555555555556,
              "#d8576b"
             ],
             [
              0.6666666666666666,
              "#ed7953"
             ],
             [
              0.7777777777777778,
              "#fb9f3a"
             ],
             [
              0.8888888888888888,
              "#fdca26"
             ],
             [
              1,
              "#f0f921"
             ]
            ],
            "type": "histogram2dcontour"
           }
          ],
          "mesh3d": [
           {
            "colorbar": {
             "outlinewidth": 0,
             "ticks": ""
            },
            "type": "mesh3d"
           }
          ],
          "parcoords": [
           {
            "line": {
             "colorbar": {
              "outlinewidth": 0,
              "ticks": ""
             }
            },
            "type": "parcoords"
           }
          ],
          "pie": [
           {
            "automargin": true,
            "type": "pie"
           }
          ],
          "scatter": [
           {
            "fillpattern": {
             "fillmode": "overlay",
             "size": 10,
             "solidity": 0.2
            },
            "type": "scatter"
           }
          ],
          "scatter3d": [
           {
            "line": {
             "colorbar": {
              "outlinewidth": 0,
              "ticks": ""
             }
            },
            "marker": {
             "colorbar": {
              "outlinewidth": 0,
              "ticks": ""
             }
            },
            "type": "scatter3d"
           }
          ],
          "scattercarpet": [
           {
            "marker": {
             "colorbar": {
              "outlinewidth": 0,
              "ticks": ""
             }
            },
            "type": "scattercarpet"
           }
          ],
          "scattergeo": [
           {
            "marker": {
             "colorbar": {
              "outlinewidth": 0,
              "ticks": ""
             }
            },
            "type": "scattergeo"
           }
          ],
          "scattergl": [
           {
            "marker": {
             "colorbar": {
              "outlinewidth": 0,
              "ticks": ""
             }
            },
            "type": "scattergl"
           }
          ],
          "scattermapbox": [
           {
            "marker": {
             "colorbar": {
              "outlinewidth": 0,
              "ticks": ""
             }
            },
            "type": "scattermapbox"
           }
          ],
          "scatterpolar": [
           {
            "marker": {
             "colorbar": {
              "outlinewidth": 0,
              "ticks": ""
             }
            },
            "type": "scatterpolar"
           }
          ],
          "scatterpolargl": [
           {
            "marker": {
             "colorbar": {
              "outlinewidth": 0,
              "ticks": ""
             }
            },
            "type": "scatterpolargl"
           }
          ],
          "scatterternary": [
           {
            "marker": {
             "colorbar": {
              "outlinewidth": 0,
              "ticks": ""
             }
            },
            "type": "scatterternary"
           }
          ],
          "surface": [
           {
            "colorbar": {
             "outlinewidth": 0,
             "ticks": ""
            },
            "colorscale": [
             [
              0,
              "#0d0887"
             ],
             [
              0.1111111111111111,
              "#46039f"
             ],
             [
              0.2222222222222222,
              "#7201a8"
             ],
             [
              0.3333333333333333,
              "#9c179e"
             ],
             [
              0.4444444444444444,
              "#bd3786"
             ],
             [
              0.5555555555555556,
              "#d8576b"
             ],
             [
              0.6666666666666666,
              "#ed7953"
             ],
             [
              0.7777777777777778,
              "#fb9f3a"
             ],
             [
              0.8888888888888888,
              "#fdca26"
             ],
             [
              1,
              "#f0f921"
             ]
            ],
            "type": "surface"
           }
          ],
          "table": [
           {
            "cells": {
             "fill": {
              "color": "#EBF0F8"
             },
             "line": {
              "color": "white"
             }
            },
            "header": {
             "fill": {
              "color": "#C8D4E3"
             },
             "line": {
              "color": "white"
             }
            },
            "type": "table"
           }
          ]
         },
         "layout": {
          "annotationdefaults": {
           "arrowcolor": "#2a3f5f",
           "arrowhead": 0,
           "arrowwidth": 1
          },
          "autotypenumbers": "strict",
          "coloraxis": {
           "colorbar": {
            "outlinewidth": 0,
            "ticks": ""
           }
          },
          "colorscale": {
           "diverging": [
            [
             0,
             "#8e0152"
            ],
            [
             0.1,
             "#c51b7d"
            ],
            [
             0.2,
             "#de77ae"
            ],
            [
             0.3,
             "#f1b6da"
            ],
            [
             0.4,
             "#fde0ef"
            ],
            [
             0.5,
             "#f7f7f7"
            ],
            [
             0.6,
             "#e6f5d0"
            ],
            [
             0.7,
             "#b8e186"
            ],
            [
             0.8,
             "#7fbc41"
            ],
            [
             0.9,
             "#4d9221"
            ],
            [
             1,
             "#276419"
            ]
           ],
           "sequential": [
            [
             0,
             "#0d0887"
            ],
            [
             0.1111111111111111,
             "#46039f"
            ],
            [
             0.2222222222222222,
             "#7201a8"
            ],
            [
             0.3333333333333333,
             "#9c179e"
            ],
            [
             0.4444444444444444,
             "#bd3786"
            ],
            [
             0.5555555555555556,
             "#d8576b"
            ],
            [
             0.6666666666666666,
             "#ed7953"
            ],
            [
             0.7777777777777778,
             "#fb9f3a"
            ],
            [
             0.8888888888888888,
             "#fdca26"
            ],
            [
             1,
             "#f0f921"
            ]
           ],
           "sequentialminus": [
            [
             0,
             "#0d0887"
            ],
            [
             0.1111111111111111,
             "#46039f"
            ],
            [
             0.2222222222222222,
             "#7201a8"
            ],
            [
             0.3333333333333333,
             "#9c179e"
            ],
            [
             0.4444444444444444,
             "#bd3786"
            ],
            [
             0.5555555555555556,
             "#d8576b"
            ],
            [
             0.6666666666666666,
             "#ed7953"
            ],
            [
             0.7777777777777778,
             "#fb9f3a"
            ],
            [
             0.8888888888888888,
             "#fdca26"
            ],
            [
             1,
             "#f0f921"
            ]
           ]
          },
          "colorway": [
           "#636efa",
           "#EF553B",
           "#00cc96",
           "#ab63fa",
           "#FFA15A",
           "#19d3f3",
           "#FF6692",
           "#B6E880",
           "#FF97FF",
           "#FECB52"
          ],
          "font": {
           "color": "#2a3f5f"
          },
          "geo": {
           "bgcolor": "white",
           "lakecolor": "white",
           "landcolor": "#E5ECF6",
           "showlakes": true,
           "showland": true,
           "subunitcolor": "white"
          },
          "hoverlabel": {
           "align": "left"
          },
          "hovermode": "closest",
          "mapbox": {
           "style": "light"
          },
          "paper_bgcolor": "white",
          "plot_bgcolor": "#E5ECF6",
          "polar": {
           "angularaxis": {
            "gridcolor": "white",
            "linecolor": "white",
            "ticks": ""
           },
           "bgcolor": "#E5ECF6",
           "radialaxis": {
            "gridcolor": "white",
            "linecolor": "white",
            "ticks": ""
           }
          },
          "scene": {
           "xaxis": {
            "backgroundcolor": "#E5ECF6",
            "gridcolor": "white",
            "gridwidth": 2,
            "linecolor": "white",
            "showbackground": true,
            "ticks": "",
            "zerolinecolor": "white"
           },
           "yaxis": {
            "backgroundcolor": "#E5ECF6",
            "gridcolor": "white",
            "gridwidth": 2,
            "linecolor": "white",
            "showbackground": true,
            "ticks": "",
            "zerolinecolor": "white"
           },
           "zaxis": {
            "backgroundcolor": "#E5ECF6",
            "gridcolor": "white",
            "gridwidth": 2,
            "linecolor": "white",
            "showbackground": true,
            "ticks": "",
            "zerolinecolor": "white"
           }
          },
          "shapedefaults": {
           "line": {
            "color": "#2a3f5f"
           }
          },
          "ternary": {
           "aaxis": {
            "gridcolor": "white",
            "linecolor": "white",
            "ticks": ""
           },
           "baxis": {
            "gridcolor": "white",
            "linecolor": "white",
            "ticks": ""
           },
           "bgcolor": "#E5ECF6",
           "caxis": {
            "gridcolor": "white",
            "linecolor": "white",
            "ticks": ""
           }
          },
          "title": {
           "x": 0.05
          },
          "xaxis": {
           "automargin": true,
           "gridcolor": "white",
           "linecolor": "white",
           "ticks": "",
           "title": {
            "standoff": 15
           },
           "zerolinecolor": "white",
           "zerolinewidth": 2
          },
          "yaxis": {
           "automargin": true,
           "gridcolor": "white",
           "linecolor": "white",
           "ticks": "",
           "title": {
            "standoff": 15
           },
           "zerolinecolor": "white",
           "zerolinewidth": 2
          }
         }
        },
        "title": {
         "text": "US States by average forest fire sizes"
        }
       }
      },
      "text/html": [
       "<div>                            <div id=\"cc6d9c83-b5dd-4b24-9e93-5224ecd33504\" class=\"plotly-graph-div\" style=\"height:525px; width:100%;\"></div>            <script type=\"text/javascript\">                require([\"plotly\"], function(Plotly) {                    window.PLOTLYENV=window.PLOTLYENV || {};                                    if (document.getElementById(\"cc6d9c83-b5dd-4b24-9e93-5224ecd33504\")) {                    Plotly.newPlot(                        \"cc6d9c83-b5dd-4b24-9e93-5224ecd33504\",                        [{\"autocolorscale\":false,\"colorbar\":{\"title\":{\"text\":\"Average Fire Sizes (acres)\"}},\"colorscale\":[[0.0,\"#1B140F\"],[0.125,\"#3D301E\"],[0.25,\"#43190E\"],[0.375,\"#644423\"],[0.5,\"#8A4D1E\"],[0.625,\"#AA5C1E\"],[0.75,\"#C93912\"],[0.875,\"#E48921\"],[1.0,\"#FAD028\"]],\"locationmode\":\"USA-states\",\"locations\":[\"NV\",\"CA\",\"TX\",\"AK\",\"WY\",\"NM\",\"ID\",\"OR\",\"MT\",\"UT\",\"AZ\",\"VA\",\"HI\",\"FL\",\"CO\",\"OK\",\"NE\",\"WA\",\"KS\",\"LA\",\"GA\",\"SD\",\"MS\",\"NC\",\"KY\",\"PR\",\"TN\",\"SC\",\"WV\",\"MN\",\"MI\",\"PA\",\"AR\",\"AL\",\"ND\",\"MO\",\"IA\",\"IN\",\"MD\",\"CT\",\"IL\",\"OH\",\"NY\",\"DE\",\"NH\",\"NJ\",\"WI\",\"MA\",\"ME\",\"RI\",\"DC\"],\"marker\":{\"line\":{\"color\":\"white\"}},\"text\":\"Fire Sizes\",\"z\":[2057.5707811002358,2024.6884260188476,1566.9677833954381,1540.9737104161852,1524.909614634794,1414.3920079516445,1395.3961313161426,1284.7522172083354,1042.2732284820395,918.5654305715734,826.0973545673792,719.4765672990092,713.2750000000002,706.1447100278241,461.2638282609502,322.9795747126437,246.00307877291056,221.0513771827385,166.72458388878053,161.71922363510717,133.93507533854657,128.3320869476464,126.75831341301335,100.0720647542234,57.9652254641909,43.742891566265044,42.69500527393849,25.616486090775982,22.505057324841225,22.04888297872323,20.67672235723003,20.00147962405251,17.18329036635007,14.35164940074369,13.191782379783028,12.232424251069917,12.004,8.216954022988498,7.4080958125103695,5.658404255319127,5.047767578125012,4.99523147074745,3.6404487175785065,1.9507042253521127,1.8698687782805425,1.355018122734659,1.0994488317468836,0.9013743166778927,0.7936138175376379,0.3878290993071586,0.28703703703703703],\"zmax\":2057.5707811002358,\"zmin\":0,\"type\":\"choropleth\"},{\"locationmode\":\"USA-states\",\"locations\":[\"NV\",\"CA\",\"TX\",\"AK\",\"WY\",\"NM\",\"ID\",\"OR\",\"MT\",\"UT\",\"AZ\",\"VA\",\"HI\",\"FL\",\"CO\",\"OK\",\"NE\",\"WA\",\"KS\",\"LA\",\"GA\",\"SD\",\"MS\",\"NC\",\"KY\",\"PR\",\"TN\",\"SC\",\"WV\",\"MN\",\"MI\",\"PA\",\"AR\",\"AL\",\"ND\",\"MO\",\"IA\",\"IN\",\"MD\",\"CT\",\"IL\",\"OH\",\"NY\",\"DE\",\"NH\",\"NJ\",\"WI\",\"MA\",\"ME\",\"RI\",\"DC\"],\"mode\":\"text\",\"text\":[\"NV\",\"CA\",\"TX\",\"AK\",\"WY\",\"NM\",\"ID\",\"OR\",\"MT\",\"UT\",\"AZ\",\"VA\",\"HI\",\"FL\",\"CO\",\"OK\",\"NE\",\"WA\",\"KS\",\"LA\",\"GA\",\"SD\",\"MS\",\"NC\",\"KY\",\"PR\",\"TN\",\"SC\",\"WV\",\"MN\",\"MI\",\"PA\",\"AR\",\"AL\",\"ND\",\"MO\",\"IA\",\"IN\",\"MD\",\"CT\",\"IL\",\"OH\",\"NY\",\"DE\",\"NH\",\"NJ\",\"WI\",\"MA\",\"ME\",\"RI\",\"DC\"],\"textfont\":{\"color\":\"white\"},\"type\":\"scattergeo\"}],                        {\"template\":{\"data\":{\"histogram2dcontour\":[{\"type\":\"histogram2dcontour\",\"colorbar\":{\"outlinewidth\":0,\"ticks\":\"\"},\"colorscale\":[[0.0,\"#0d0887\"],[0.1111111111111111,\"#46039f\"],[0.2222222222222222,\"#7201a8\"],[0.3333333333333333,\"#9c179e\"],[0.4444444444444444,\"#bd3786\"],[0.5555555555555556,\"#d8576b\"],[0.6666666666666666,\"#ed7953\"],[0.7777777777777778,\"#fb9f3a\"],[0.8888888888888888,\"#fdca26\"],[1.0,\"#f0f921\"]]}],\"choropleth\":[{\"type\":\"choropleth\",\"colorbar\":{\"outlinewidth\":0,\"ticks\":\"\"}}],\"histogram2d\":[{\"type\":\"histogram2d\",\"colorbar\":{\"outlinewidth\":0,\"ticks\":\"\"},\"colorscale\":[[0.0,\"#0d0887\"],[0.1111111111111111,\"#46039f\"],[0.2222222222222222,\"#7201a8\"],[0.3333333333333333,\"#9c179e\"],[0.4444444444444444,\"#bd3786\"],[0.5555555555555556,\"#d8576b\"],[0.6666666666666666,\"#ed7953\"],[0.7777777777777778,\"#fb9f3a\"],[0.8888888888888888,\"#fdca26\"],[1.0,\"#f0f921\"]]}],\"heatmap\":[{\"type\":\"heatmap\",\"colorbar\":{\"outlinewidth\":0,\"ticks\":\"\"},\"colorscale\":[[0.0,\"#0d0887\"],[0.1111111111111111,\"#46039f\"],[0.2222222222222222,\"#7201a8\"],[0.3333333333333333,\"#9c179e\"],[0.4444444444444444,\"#bd3786\"],[0.5555555555555556,\"#d8576b\"],[0.6666666666666666,\"#ed7953\"],[0.7777777777777778,\"#fb9f3a\"],[0.8888888888888888,\"#fdca26\"],[1.0,\"#f0f921\"]]}],\"heatmapgl\":[{\"type\":\"heatmapgl\",\"colorbar\":{\"outlinewidth\":0,\"ticks\":\"\"},\"colorscale\":[[0.0,\"#0d0887\"],[0.1111111111111111,\"#46039f\"],[0.2222222222222222,\"#7201a8\"],[0.3333333333333333,\"#9c179e\"],[0.4444444444444444,\"#bd3786\"],[0.5555555555555556,\"#d8576b\"],[0.6666666666666666,\"#ed7953\"],[0.7777777777777778,\"#fb9f3a\"],[0.8888888888888888,\"#fdca26\"],[1.0,\"#f0f921\"]]}],\"contourcarpet\":[{\"type\":\"contourcarpet\",\"colorbar\":{\"outlinewidth\":0,\"ticks\":\"\"}}],\"contour\":[{\"type\":\"contour\",\"colorbar\":{\"outlinewidth\":0,\"ticks\":\"\"},\"colorscale\":[[0.0,\"#0d0887\"],[0.1111111111111111,\"#46039f\"],[0.2222222222222222,\"#7201a8\"],[0.3333333333333333,\"#9c179e\"],[0.4444444444444444,\"#bd3786\"],[0.5555555555555556,\"#d8576b\"],[0.6666666666666666,\"#ed7953\"],[0.7777777777777778,\"#fb9f3a\"],[0.8888888888888888,\"#fdca26\"],[1.0,\"#f0f921\"]]}],\"surface\":[{\"type\":\"surface\",\"colorbar\":{\"outlinewidth\":0,\"ticks\":\"\"},\"colorscale\":[[0.0,\"#0d0887\"],[0.1111111111111111,\"#46039f\"],[0.2222222222222222,\"#7201a8\"],[0.3333333333333333,\"#9c179e\"],[0.4444444444444444,\"#bd3786\"],[0.5555555555555556,\"#d8576b\"],[0.6666666666666666,\"#ed7953\"],[0.7777777777777778,\"#fb9f3a\"],[0.8888888888888888,\"#fdca26\"],[1.0,\"#f0f921\"]]}],\"mesh3d\":[{\"type\":\"mesh3d\",\"colorbar\":{\"outlinewidth\":0,\"ticks\":\"\"}}],\"scatter\":[{\"fillpattern\":{\"fillmode\":\"overlay\",\"size\":10,\"solidity\":0.2},\"type\":\"scatter\"}],\"parcoords\":[{\"type\":\"parcoords\",\"line\":{\"colorbar\":{\"outlinewidth\":0,\"ticks\":\"\"}}}],\"scatterpolargl\":[{\"type\":\"scatterpolargl\",\"marker\":{\"colorbar\":{\"outlinewidth\":0,\"ticks\":\"\"}}}],\"bar\":[{\"error_x\":{\"color\":\"#2a3f5f\"},\"error_y\":{\"color\":\"#2a3f5f\"},\"marker\":{\"line\":{\"color\":\"#E5ECF6\",\"width\":0.5},\"pattern\":{\"fillmode\":\"overlay\",\"size\":10,\"solidity\":0.2}},\"type\":\"bar\"}],\"scattergeo\":[{\"type\":\"scattergeo\",\"marker\":{\"colorbar\":{\"outlinewidth\":0,\"ticks\":\"\"}}}],\"scatterpolar\":[{\"type\":\"scatterpolar\",\"marker\":{\"colorbar\":{\"outlinewidth\":0,\"ticks\":\"\"}}}],\"histogram\":[{\"marker\":{\"pattern\":{\"fillmode\":\"overlay\",\"size\":10,\"solidity\":0.2}},\"type\":\"histogram\"}],\"scattergl\":[{\"type\":\"scattergl\",\"marker\":{\"colorbar\":{\"outlinewidth\":0,\"ticks\":\"\"}}}],\"scatter3d\":[{\"type\":\"scatter3d\",\"line\":{\"colorbar\":{\"outlinewidth\":0,\"ticks\":\"\"}},\"marker\":{\"colorbar\":{\"outlinewidth\":0,\"ticks\":\"\"}}}],\"scattermapbox\":[{\"type\":\"scattermapbox\",\"marker\":{\"colorbar\":{\"outlinewidth\":0,\"ticks\":\"\"}}}],\"scatterternary\":[{\"type\":\"scatterternary\",\"marker\":{\"colorbar\":{\"outlinewidth\":0,\"ticks\":\"\"}}}],\"scattercarpet\":[{\"type\":\"scattercarpet\",\"marker\":{\"colorbar\":{\"outlinewidth\":0,\"ticks\":\"\"}}}],\"carpet\":[{\"aaxis\":{\"endlinecolor\":\"#2a3f5f\",\"gridcolor\":\"white\",\"linecolor\":\"white\",\"minorgridcolor\":\"white\",\"startlinecolor\":\"#2a3f5f\"},\"baxis\":{\"endlinecolor\":\"#2a3f5f\",\"gridcolor\":\"white\",\"linecolor\":\"white\",\"minorgridcolor\":\"white\",\"startlinecolor\":\"#2a3f5f\"},\"type\":\"carpet\"}],\"table\":[{\"cells\":{\"fill\":{\"color\":\"#EBF0F8\"},\"line\":{\"color\":\"white\"}},\"header\":{\"fill\":{\"color\":\"#C8D4E3\"},\"line\":{\"color\":\"white\"}},\"type\":\"table\"}],\"barpolar\":[{\"marker\":{\"line\":{\"color\":\"#E5ECF6\",\"width\":0.5},\"pattern\":{\"fillmode\":\"overlay\",\"size\":10,\"solidity\":0.2}},\"type\":\"barpolar\"}],\"pie\":[{\"automargin\":true,\"type\":\"pie\"}]},\"layout\":{\"autotypenumbers\":\"strict\",\"colorway\":[\"#636efa\",\"#EF553B\",\"#00cc96\",\"#ab63fa\",\"#FFA15A\",\"#19d3f3\",\"#FF6692\",\"#B6E880\",\"#FF97FF\",\"#FECB52\"],\"font\":{\"color\":\"#2a3f5f\"},\"hovermode\":\"closest\",\"hoverlabel\":{\"align\":\"left\"},\"paper_bgcolor\":\"white\",\"plot_bgcolor\":\"#E5ECF6\",\"polar\":{\"bgcolor\":\"#E5ECF6\",\"angularaxis\":{\"gridcolor\":\"white\",\"linecolor\":\"white\",\"ticks\":\"\"},\"radialaxis\":{\"gridcolor\":\"white\",\"linecolor\":\"white\",\"ticks\":\"\"}},\"ternary\":{\"bgcolor\":\"#E5ECF6\",\"aaxis\":{\"gridcolor\":\"white\",\"linecolor\":\"white\",\"ticks\":\"\"},\"baxis\":{\"gridcolor\":\"white\",\"linecolor\":\"white\",\"ticks\":\"\"},\"caxis\":{\"gridcolor\":\"white\",\"linecolor\":\"white\",\"ticks\":\"\"}},\"coloraxis\":{\"colorbar\":{\"outlinewidth\":0,\"ticks\":\"\"}},\"colorscale\":{\"sequential\":[[0.0,\"#0d0887\"],[0.1111111111111111,\"#46039f\"],[0.2222222222222222,\"#7201a8\"],[0.3333333333333333,\"#9c179e\"],[0.4444444444444444,\"#bd3786\"],[0.5555555555555556,\"#d8576b\"],[0.6666666666666666,\"#ed7953\"],[0.7777777777777778,\"#fb9f3a\"],[0.8888888888888888,\"#fdca26\"],[1.0,\"#f0f921\"]],\"sequentialminus\":[[0.0,\"#0d0887\"],[0.1111111111111111,\"#46039f\"],[0.2222222222222222,\"#7201a8\"],[0.3333333333333333,\"#9c179e\"],[0.4444444444444444,\"#bd3786\"],[0.5555555555555556,\"#d8576b\"],[0.6666666666666666,\"#ed7953\"],[0.7777777777777778,\"#fb9f3a\"],[0.8888888888888888,\"#fdca26\"],[1.0,\"#f0f921\"]],\"diverging\":[[0,\"#8e0152\"],[0.1,\"#c51b7d\"],[0.2,\"#de77ae\"],[0.3,\"#f1b6da\"],[0.4,\"#fde0ef\"],[0.5,\"#f7f7f7\"],[0.6,\"#e6f5d0\"],[0.7,\"#b8e186\"],[0.8,\"#7fbc41\"],[0.9,\"#4d9221\"],[1,\"#276419\"]]},\"xaxis\":{\"gridcolor\":\"white\",\"linecolor\":\"white\",\"ticks\":\"\",\"title\":{\"standoff\":15},\"zerolinecolor\":\"white\",\"automargin\":true,\"zerolinewidth\":2},\"yaxis\":{\"gridcolor\":\"white\",\"linecolor\":\"white\",\"ticks\":\"\",\"title\":{\"standoff\":15},\"zerolinecolor\":\"white\",\"automargin\":true,\"zerolinewidth\":2},\"scene\":{\"xaxis\":{\"backgroundcolor\":\"#E5ECF6\",\"gridcolor\":\"white\",\"linecolor\":\"white\",\"showbackground\":true,\"ticks\":\"\",\"zerolinecolor\":\"white\",\"gridwidth\":2},\"yaxis\":{\"backgroundcolor\":\"#E5ECF6\",\"gridcolor\":\"white\",\"linecolor\":\"white\",\"showbackground\":true,\"ticks\":\"\",\"zerolinecolor\":\"white\",\"gridwidth\":2},\"zaxis\":{\"backgroundcolor\":\"#E5ECF6\",\"gridcolor\":\"white\",\"linecolor\":\"white\",\"showbackground\":true,\"ticks\":\"\",\"zerolinecolor\":\"white\",\"gridwidth\":2}},\"shapedefaults\":{\"line\":{\"color\":\"#2a3f5f\"}},\"annotationdefaults\":{\"arrowcolor\":\"#2a3f5f\",\"arrowhead\":0,\"arrowwidth\":1},\"geo\":{\"bgcolor\":\"white\",\"landcolor\":\"#E5ECF6\",\"subunitcolor\":\"white\",\"showland\":true,\"showlakes\":true,\"lakecolor\":\"white\"},\"title\":{\"x\":0.05},\"mapbox\":{\"style\":\"light\"}}},\"title\":{\"text\":\"US States by average forest fire sizes\"},\"geo\":{\"scope\":\"usa\",\"projection\":{\"type\":\"albers usa\"},\"showlakes\":true,\"lakecolor\":\"rgba(0,0,0,0)\",\"landcolor\":\"rgba(0,0,0,0)\",\"bgcolor\":\"rgba(0,0,0,0)\"},\"plot_bgcolor\":\"rgba(0,0,0,0)\",\"paper_bgcolor\":\"rgba(0,0,0,0)\"},                        {\"responsive\": true}                    ).then(function(){\n",
       "                            \n",
       "var gd = document.getElementById('cc6d9c83-b5dd-4b24-9e93-5224ecd33504');\n",
       "var x = new MutationObserver(function (mutations, observer) {{\n",
       "        var display = window.getComputedStyle(gd).display;\n",
       "        if (!display || display === 'none') {{\n",
       "            console.log([gd, 'removed!']);\n",
       "            Plotly.purge(gd);\n",
       "            observer.disconnect();\n",
       "        }}\n",
       "}});\n",
       "\n",
       "// Listen for the removal of the full notebook cells\n",
       "var notebookContainer = gd.closest('#notebook-container');\n",
       "if (notebookContainer) {{\n",
       "    x.observe(notebookContainer, {childList: true});\n",
       "}}\n",
       "\n",
       "// Listen for the clearing of the current output cell\n",
       "var outputEl = gd.closest('.output');\n",
       "if (outputEl) {{\n",
       "    x.observe(outputEl, {childList: true});\n",
       "}}\n",
       "\n",
       "                        })                };                });            </script>        </div>"
      ]
     },
     "metadata": {},
     "output_type": "display_data"
    }
   ],
   "source": [
    "# Sample data: Replace this with your actual data\n",
    "state_codes = avg_fire_size_by_state.index.values # List of US state codes\n",
    "fire_sizes = avg_fire_size_by_state.values       # Corresponding fire sizes\n",
    "\n",
    "# Create a DataFrame with state data\n",
    "fdata = {'state_code': state_codes, 'fire_sizes': fire_sizes}\n",
    "data = pd.DataFrame(fdata)\n",
    "\n",
    "# Define the colorscale (yellow to red)\n",
    "scl = colors = [\n",
    "    \"#1B140F\", \"#3D301E\", \"#43190E\", \"#644423\",\n",
    "    \"#8A4D1E\", \"#AA5C1E\", \"#C93912\", \"#E48921\", \"#FAD028\"\n",
    "]\n",
    "\n",
    "# Create the choropleth map\n",
    "choropleth = go.Choropleth(\n",
    "    locations=data['state_code'],\n",
    "    locationmode='USA-states',\n",
    "    z=data['fire_sizes'].astype(float),\n",
    "    zmin=0,\n",
    "    zmax=max(data['fire_sizes'].astype(float)),\n",
    "    colorscale=scl,\n",
    "    autocolorscale=False,\n",
    "    text='Fire Sizes',\n",
    "    marker_line_color='white',\n",
    "    colorbar_title=\"Average Fire Sizes (acres)\"\n",
    ")\n",
    "\n",
    "# Create the figure and update layout\n",
    "fig = go.Figure(data=choropleth)\n",
    "fig.update_layout(\n",
    "    title_text='US States by average forest fire sizes',\n",
    "    geo=dict(\n",
    "        scope='usa',\n",
    "        projection=go.layout.geo.Projection(type='albers usa'),\n",
    "        showlakes=True,\n",
    "        lakecolor='rgba(0,0,0,0)',  # This sets the lake color to transparent\n",
    "        landcolor='rgba(0,0,0,0)', # This sets the land color to transparent\n",
    "        bgcolor='rgba(0,0,0,0)'    # This sets the geographic background color to transparent\n",
    "    ),\n",
    "    plot_bgcolor='rgba(0,0,0,0)',   # This sets the plot background to transparent\n",
    "    paper_bgcolor='rgba(0,0,0,0)',\n",
    ")\n",
    "fig.add_scattergeo(\n",
    "    locations=data['state_code'],\n",
    "    locationmode=\"USA-states\",\n",
    "    text=data['state_code'],\n",
    "    mode='text',\n",
    "    textfont=dict(color='white')\n",
    ")\n",
    "fig.write_image('Plots/State_by_FireSize.png', scale=7)\n",
    "# Show the plot\n",
    "fig.show()"
   ]
  },
  {
   "cell_type": "code",
   "execution_count": 24,
   "id": "b8942104",
   "metadata": {},
   "outputs": [
    {
     "data": {
      "application/vnd.plotly.v1+json": {
       "config": {
        "plotlyServerURL": "https://plot.ly"
       },
       "data": [
        {
         "autocolorscale": false,
         "colorbar": {
          "title": {
           "text": "Fire Occurences"
          }
         },
         "colorscale": [
          [
           0,
           "#43190E"
          ],
          [
           0.16666666666666666,
           "#644423"
          ],
          [
           0.3333333333333333,
           "#8A4D1E"
          ],
          [
           0.5,
           "#AA5C1E"
          ],
          [
           0.6666666666666666,
           "#C93912"
          ],
          [
           0.8333333333333334,
           "#E48921"
          ],
          [
           1,
           "#FAD028"
          ]
         ],
         "locationmode": "USA-states",
         "locations": [
          "WA",
          "CA",
          "ID",
          "NC",
          "MT",
          "AZ",
          "OR",
          "CO",
          "WY",
          "FL",
          "AL",
          "NY",
          "OK",
          "NM",
          "AK",
          "UT",
          "NV",
          "TN",
          "NE",
          "TX",
          "ND",
          "OH",
          "MA",
          "MO",
          "SD",
          "WV",
          "PA",
          "WI",
          "NJ",
          "MD",
          "AR",
          "KS",
          "GA",
          "IL",
          "LA",
          "MS",
          "MI",
          "ME",
          "KY",
          "VA",
          "SC",
          "MN",
          "NH",
          "RI",
          "PR",
          "IN",
          "IA",
          "HI",
          "CT",
          "DE",
          "DC"
         ],
         "marker": {
          "line": {
           "color": "white"
          }
         },
         "text": "Fire Sizes",
         "type": "choropleth",
         "z": [
          72869,
          44743,
          38298,
          37980,
          36346,
          33719,
          33260,
          29820,
          21327,
          18728,
          18277,
          18160,
          17395,
          13370,
          12995,
          12315,
          10365,
          9395,
          7805,
          7517,
          7288,
          6724,
          6013,
          5376,
          4889,
          4830,
          4663,
          4028,
          3859,
          3069,
          2924,
          2820,
          2640,
          2413,
          2184,
          1825,
          1643,
          1140,
          1095,
          1087,
          1027,
          755,
          342,
          235,
          210,
          174,
          151,
          134,
          132,
          37,
          27
         ],
         "zmax": 72869,
         "zmin": 0
        },
        {
         "locationmode": "USA-states",
         "locations": [
          "WA",
          "CA",
          "ID",
          "NC",
          "MT",
          "AZ",
          "OR",
          "CO",
          "WY",
          "FL",
          "AL",
          "NY",
          "OK",
          "NM",
          "AK",
          "UT",
          "NV",
          "TN",
          "NE",
          "TX",
          "ND",
          "OH",
          "MA",
          "MO",
          "SD",
          "WV",
          "PA",
          "WI",
          "NJ",
          "MD",
          "AR",
          "KS",
          "GA",
          "IL",
          "LA",
          "MS",
          "MI",
          "ME",
          "KY",
          "VA",
          "SC",
          "MN",
          "NH",
          "RI",
          "PR",
          "IN",
          "IA",
          "HI",
          "CT",
          "DE",
          "DC"
         ],
         "mode": "text",
         "text": [
          "WA",
          "CA",
          "ID",
          "NC",
          "MT",
          "AZ",
          "OR",
          "CO",
          "WY",
          "FL",
          "AL",
          "NY",
          "OK",
          "NM",
          "AK",
          "UT",
          "NV",
          "TN",
          "NE",
          "TX",
          "ND",
          "OH",
          "MA",
          "MO",
          "SD",
          "WV",
          "PA",
          "WI",
          "NJ",
          "MD",
          "AR",
          "KS",
          "GA",
          "IL",
          "LA",
          "MS",
          "MI",
          "ME",
          "KY",
          "VA",
          "SC",
          "MN",
          "NH",
          "RI",
          "PR",
          "IN",
          "IA",
          "HI",
          "CT",
          "DE",
          "DC"
         ],
         "textfont": {
          "color": "white"
         },
         "type": "scattergeo"
        }
       ],
       "layout": {
        "geo": {
         "bgcolor": "rgba(0,0,0,0)",
         "lakecolor": "rgba(0,0,0,0)",
         "landcolor": "rgba(0,0,0,0)",
         "projection": {
          "type": "albers usa"
         },
         "scope": "usa",
         "showlakes": true
        },
        "paper_bgcolor": "rgba(0,0,0,0)",
        "plot_bgcolor": "rgba(0,0,0,0)",
        "template": {
         "data": {
          "bar": [
           {
            "error_x": {
             "color": "#2a3f5f"
            },
            "error_y": {
             "color": "#2a3f5f"
            },
            "marker": {
             "line": {
              "color": "#E5ECF6",
              "width": 0.5
             },
             "pattern": {
              "fillmode": "overlay",
              "size": 10,
              "solidity": 0.2
             }
            },
            "type": "bar"
           }
          ],
          "barpolar": [
           {
            "marker": {
             "line": {
              "color": "#E5ECF6",
              "width": 0.5
             },
             "pattern": {
              "fillmode": "overlay",
              "size": 10,
              "solidity": 0.2
             }
            },
            "type": "barpolar"
           }
          ],
          "carpet": [
           {
            "aaxis": {
             "endlinecolor": "#2a3f5f",
             "gridcolor": "white",
             "linecolor": "white",
             "minorgridcolor": "white",
             "startlinecolor": "#2a3f5f"
            },
            "baxis": {
             "endlinecolor": "#2a3f5f",
             "gridcolor": "white",
             "linecolor": "white",
             "minorgridcolor": "white",
             "startlinecolor": "#2a3f5f"
            },
            "type": "carpet"
           }
          ],
          "choropleth": [
           {
            "colorbar": {
             "outlinewidth": 0,
             "ticks": ""
            },
            "type": "choropleth"
           }
          ],
          "contour": [
           {
            "colorbar": {
             "outlinewidth": 0,
             "ticks": ""
            },
            "colorscale": [
             [
              0,
              "#0d0887"
             ],
             [
              0.1111111111111111,
              "#46039f"
             ],
             [
              0.2222222222222222,
              "#7201a8"
             ],
             [
              0.3333333333333333,
              "#9c179e"
             ],
             [
              0.4444444444444444,
              "#bd3786"
             ],
             [
              0.5555555555555556,
              "#d8576b"
             ],
             [
              0.6666666666666666,
              "#ed7953"
             ],
             [
              0.7777777777777778,
              "#fb9f3a"
             ],
             [
              0.8888888888888888,
              "#fdca26"
             ],
             [
              1,
              "#f0f921"
             ]
            ],
            "type": "contour"
           }
          ],
          "contourcarpet": [
           {
            "colorbar": {
             "outlinewidth": 0,
             "ticks": ""
            },
            "type": "contourcarpet"
           }
          ],
          "heatmap": [
           {
            "colorbar": {
             "outlinewidth": 0,
             "ticks": ""
            },
            "colorscale": [
             [
              0,
              "#0d0887"
             ],
             [
              0.1111111111111111,
              "#46039f"
             ],
             [
              0.2222222222222222,
              "#7201a8"
             ],
             [
              0.3333333333333333,
              "#9c179e"
             ],
             [
              0.4444444444444444,
              "#bd3786"
             ],
             [
              0.5555555555555556,
              "#d8576b"
             ],
             [
              0.6666666666666666,
              "#ed7953"
             ],
             [
              0.7777777777777778,
              "#fb9f3a"
             ],
             [
              0.8888888888888888,
              "#fdca26"
             ],
             [
              1,
              "#f0f921"
             ]
            ],
            "type": "heatmap"
           }
          ],
          "heatmapgl": [
           {
            "colorbar": {
             "outlinewidth": 0,
             "ticks": ""
            },
            "colorscale": [
             [
              0,
              "#0d0887"
             ],
             [
              0.1111111111111111,
              "#46039f"
             ],
             [
              0.2222222222222222,
              "#7201a8"
             ],
             [
              0.3333333333333333,
              "#9c179e"
             ],
             [
              0.4444444444444444,
              "#bd3786"
             ],
             [
              0.5555555555555556,
              "#d8576b"
             ],
             [
              0.6666666666666666,
              "#ed7953"
             ],
             [
              0.7777777777777778,
              "#fb9f3a"
             ],
             [
              0.8888888888888888,
              "#fdca26"
             ],
             [
              1,
              "#f0f921"
             ]
            ],
            "type": "heatmapgl"
           }
          ],
          "histogram": [
           {
            "marker": {
             "pattern": {
              "fillmode": "overlay",
              "size": 10,
              "solidity": 0.2
             }
            },
            "type": "histogram"
           }
          ],
          "histogram2d": [
           {
            "colorbar": {
             "outlinewidth": 0,
             "ticks": ""
            },
            "colorscale": [
             [
              0,
              "#0d0887"
             ],
             [
              0.1111111111111111,
              "#46039f"
             ],
             [
              0.2222222222222222,
              "#7201a8"
             ],
             [
              0.3333333333333333,
              "#9c179e"
             ],
             [
              0.4444444444444444,
              "#bd3786"
             ],
             [
              0.5555555555555556,
              "#d8576b"
             ],
             [
              0.6666666666666666,
              "#ed7953"
             ],
             [
              0.7777777777777778,
              "#fb9f3a"
             ],
             [
              0.8888888888888888,
              "#fdca26"
             ],
             [
              1,
              "#f0f921"
             ]
            ],
            "type": "histogram2d"
           }
          ],
          "histogram2dcontour": [
           {
            "colorbar": {
             "outlinewidth": 0,
             "ticks": ""
            },
            "colorscale": [
             [
              0,
              "#0d0887"
             ],
             [
              0.1111111111111111,
              "#46039f"
             ],
             [
              0.2222222222222222,
              "#7201a8"
             ],
             [
              0.3333333333333333,
              "#9c179e"
             ],
             [
              0.4444444444444444,
              "#bd3786"
             ],
             [
              0.5555555555555556,
              "#d8576b"
             ],
             [
              0.6666666666666666,
              "#ed7953"
             ],
             [
              0.7777777777777778,
              "#fb9f3a"
             ],
             [
              0.8888888888888888,
              "#fdca26"
             ],
             [
              1,
              "#f0f921"
             ]
            ],
            "type": "histogram2dcontour"
           }
          ],
          "mesh3d": [
           {
            "colorbar": {
             "outlinewidth": 0,
             "ticks": ""
            },
            "type": "mesh3d"
           }
          ],
          "parcoords": [
           {
            "line": {
             "colorbar": {
              "outlinewidth": 0,
              "ticks": ""
             }
            },
            "type": "parcoords"
           }
          ],
          "pie": [
           {
            "automargin": true,
            "type": "pie"
           }
          ],
          "scatter": [
           {
            "fillpattern": {
             "fillmode": "overlay",
             "size": 10,
             "solidity": 0.2
            },
            "type": "scatter"
           }
          ],
          "scatter3d": [
           {
            "line": {
             "colorbar": {
              "outlinewidth": 0,
              "ticks": ""
             }
            },
            "marker": {
             "colorbar": {
              "outlinewidth": 0,
              "ticks": ""
             }
            },
            "type": "scatter3d"
           }
          ],
          "scattercarpet": [
           {
            "marker": {
             "colorbar": {
              "outlinewidth": 0,
              "ticks": ""
             }
            },
            "type": "scattercarpet"
           }
          ],
          "scattergeo": [
           {
            "marker": {
             "colorbar": {
              "outlinewidth": 0,
              "ticks": ""
             }
            },
            "type": "scattergeo"
           }
          ],
          "scattergl": [
           {
            "marker": {
             "colorbar": {
              "outlinewidth": 0,
              "ticks": ""
             }
            },
            "type": "scattergl"
           }
          ],
          "scattermapbox": [
           {
            "marker": {
             "colorbar": {
              "outlinewidth": 0,
              "ticks": ""
             }
            },
            "type": "scattermapbox"
           }
          ],
          "scatterpolar": [
           {
            "marker": {
             "colorbar": {
              "outlinewidth": 0,
              "ticks": ""
             }
            },
            "type": "scatterpolar"
           }
          ],
          "scatterpolargl": [
           {
            "marker": {
             "colorbar": {
              "outlinewidth": 0,
              "ticks": ""
             }
            },
            "type": "scatterpolargl"
           }
          ],
          "scatterternary": [
           {
            "marker": {
             "colorbar": {
              "outlinewidth": 0,
              "ticks": ""
             }
            },
            "type": "scatterternary"
           }
          ],
          "surface": [
           {
            "colorbar": {
             "outlinewidth": 0,
             "ticks": ""
            },
            "colorscale": [
             [
              0,
              "#0d0887"
             ],
             [
              0.1111111111111111,
              "#46039f"
             ],
             [
              0.2222222222222222,
              "#7201a8"
             ],
             [
              0.3333333333333333,
              "#9c179e"
             ],
             [
              0.4444444444444444,
              "#bd3786"
             ],
             [
              0.5555555555555556,
              "#d8576b"
             ],
             [
              0.6666666666666666,
              "#ed7953"
             ],
             [
              0.7777777777777778,
              "#fb9f3a"
             ],
             [
              0.8888888888888888,
              "#fdca26"
             ],
             [
              1,
              "#f0f921"
             ]
            ],
            "type": "surface"
           }
          ],
          "table": [
           {
            "cells": {
             "fill": {
              "color": "#EBF0F8"
             },
             "line": {
              "color": "white"
             }
            },
            "header": {
             "fill": {
              "color": "#C8D4E3"
             },
             "line": {
              "color": "white"
             }
            },
            "type": "table"
           }
          ]
         },
         "layout": {
          "annotationdefaults": {
           "arrowcolor": "#2a3f5f",
           "arrowhead": 0,
           "arrowwidth": 1
          },
          "autotypenumbers": "strict",
          "coloraxis": {
           "colorbar": {
            "outlinewidth": 0,
            "ticks": ""
           }
          },
          "colorscale": {
           "diverging": [
            [
             0,
             "#8e0152"
            ],
            [
             0.1,
             "#c51b7d"
            ],
            [
             0.2,
             "#de77ae"
            ],
            [
             0.3,
             "#f1b6da"
            ],
            [
             0.4,
             "#fde0ef"
            ],
            [
             0.5,
             "#f7f7f7"
            ],
            [
             0.6,
             "#e6f5d0"
            ],
            [
             0.7,
             "#b8e186"
            ],
            [
             0.8,
             "#7fbc41"
            ],
            [
             0.9,
             "#4d9221"
            ],
            [
             1,
             "#276419"
            ]
           ],
           "sequential": [
            [
             0,
             "#0d0887"
            ],
            [
             0.1111111111111111,
             "#46039f"
            ],
            [
             0.2222222222222222,
             "#7201a8"
            ],
            [
             0.3333333333333333,
             "#9c179e"
            ],
            [
             0.4444444444444444,
             "#bd3786"
            ],
            [
             0.5555555555555556,
             "#d8576b"
            ],
            [
             0.6666666666666666,
             "#ed7953"
            ],
            [
             0.7777777777777778,
             "#fb9f3a"
            ],
            [
             0.8888888888888888,
             "#fdca26"
            ],
            [
             1,
             "#f0f921"
            ]
           ],
           "sequentialminus": [
            [
             0,
             "#0d0887"
            ],
            [
             0.1111111111111111,
             "#46039f"
            ],
            [
             0.2222222222222222,
             "#7201a8"
            ],
            [
             0.3333333333333333,
             "#9c179e"
            ],
            [
             0.4444444444444444,
             "#bd3786"
            ],
            [
             0.5555555555555556,
             "#d8576b"
            ],
            [
             0.6666666666666666,
             "#ed7953"
            ],
            [
             0.7777777777777778,
             "#fb9f3a"
            ],
            [
             0.8888888888888888,
             "#fdca26"
            ],
            [
             1,
             "#f0f921"
            ]
           ]
          },
          "colorway": [
           "#636efa",
           "#EF553B",
           "#00cc96",
           "#ab63fa",
           "#FFA15A",
           "#19d3f3",
           "#FF6692",
           "#B6E880",
           "#FF97FF",
           "#FECB52"
          ],
          "font": {
           "color": "#2a3f5f"
          },
          "geo": {
           "bgcolor": "white",
           "lakecolor": "white",
           "landcolor": "#E5ECF6",
           "showlakes": true,
           "showland": true,
           "subunitcolor": "white"
          },
          "hoverlabel": {
           "align": "left"
          },
          "hovermode": "closest",
          "mapbox": {
           "style": "light"
          },
          "paper_bgcolor": "white",
          "plot_bgcolor": "#E5ECF6",
          "polar": {
           "angularaxis": {
            "gridcolor": "white",
            "linecolor": "white",
            "ticks": ""
           },
           "bgcolor": "#E5ECF6",
           "radialaxis": {
            "gridcolor": "white",
            "linecolor": "white",
            "ticks": ""
           }
          },
          "scene": {
           "xaxis": {
            "backgroundcolor": "#E5ECF6",
            "gridcolor": "white",
            "gridwidth": 2,
            "linecolor": "white",
            "showbackground": true,
            "ticks": "",
            "zerolinecolor": "white"
           },
           "yaxis": {
            "backgroundcolor": "#E5ECF6",
            "gridcolor": "white",
            "gridwidth": 2,
            "linecolor": "white",
            "showbackground": true,
            "ticks": "",
            "zerolinecolor": "white"
           },
           "zaxis": {
            "backgroundcolor": "#E5ECF6",
            "gridcolor": "white",
            "gridwidth": 2,
            "linecolor": "white",
            "showbackground": true,
            "ticks": "",
            "zerolinecolor": "white"
           }
          },
          "shapedefaults": {
           "line": {
            "color": "#2a3f5f"
           }
          },
          "ternary": {
           "aaxis": {
            "gridcolor": "white",
            "linecolor": "white",
            "ticks": ""
           },
           "baxis": {
            "gridcolor": "white",
            "linecolor": "white",
            "ticks": ""
           },
           "bgcolor": "#E5ECF6",
           "caxis": {
            "gridcolor": "white",
            "linecolor": "white",
            "ticks": ""
           }
          },
          "title": {
           "x": 0.05
          },
          "xaxis": {
           "automargin": true,
           "gridcolor": "white",
           "linecolor": "white",
           "ticks": "",
           "title": {
            "standoff": 15
           },
           "zerolinecolor": "white",
           "zerolinewidth": 2
          },
          "yaxis": {
           "automargin": true,
           "gridcolor": "white",
           "linecolor": "white",
           "ticks": "",
           "title": {
            "standoff": 15
           },
           "zerolinecolor": "white",
           "zerolinewidth": 2
          }
         }
        },
        "title": {
         "text": "Forest Fire Occurences in US States"
        }
       }
      },
      "text/html": [
       "<div>                            <div id=\"9c479238-bcc7-4f42-a743-26555150a552\" class=\"plotly-graph-div\" style=\"height:525px; width:100%;\"></div>            <script type=\"text/javascript\">                require([\"plotly\"], function(Plotly) {                    window.PLOTLYENV=window.PLOTLYENV || {};                                    if (document.getElementById(\"9c479238-bcc7-4f42-a743-26555150a552\")) {                    Plotly.newPlot(                        \"9c479238-bcc7-4f42-a743-26555150a552\",                        [{\"autocolorscale\":false,\"colorbar\":{\"title\":{\"text\":\"Fire Occurences\"}},\"colorscale\":[[0.0,\"#43190E\"],[0.16666666666666666,\"#644423\"],[0.3333333333333333,\"#8A4D1E\"],[0.5,\"#AA5C1E\"],[0.6666666666666666,\"#C93912\"],[0.8333333333333334,\"#E48921\"],[1.0,\"#FAD028\"]],\"locationmode\":\"USA-states\",\"locations\":[\"WA\",\"CA\",\"ID\",\"NC\",\"MT\",\"AZ\",\"OR\",\"CO\",\"WY\",\"FL\",\"AL\",\"NY\",\"OK\",\"NM\",\"AK\",\"UT\",\"NV\",\"TN\",\"NE\",\"TX\",\"ND\",\"OH\",\"MA\",\"MO\",\"SD\",\"WV\",\"PA\",\"WI\",\"NJ\",\"MD\",\"AR\",\"KS\",\"GA\",\"IL\",\"LA\",\"MS\",\"MI\",\"ME\",\"KY\",\"VA\",\"SC\",\"MN\",\"NH\",\"RI\",\"PR\",\"IN\",\"IA\",\"HI\",\"CT\",\"DE\",\"DC\"],\"marker\":{\"line\":{\"color\":\"white\"}},\"text\":\"Fire Sizes\",\"z\":[72869.0,44743.0,38298.0,37980.0,36346.0,33719.0,33260.0,29820.0,21327.0,18728.0,18277.0,18160.0,17395.0,13370.0,12995.0,12315.0,10365.0,9395.0,7805.0,7517.0,7288.0,6724.0,6013.0,5376.0,4889.0,4830.0,4663.0,4028.0,3859.0,3069.0,2924.0,2820.0,2640.0,2413.0,2184.0,1825.0,1643.0,1140.0,1095.0,1087.0,1027.0,755.0,342.0,235.0,210.0,174.0,151.0,134.0,132.0,37.0,27.0],\"zmax\":72869.0,\"zmin\":0,\"type\":\"choropleth\"},{\"locationmode\":\"USA-states\",\"locations\":[\"WA\",\"CA\",\"ID\",\"NC\",\"MT\",\"AZ\",\"OR\",\"CO\",\"WY\",\"FL\",\"AL\",\"NY\",\"OK\",\"NM\",\"AK\",\"UT\",\"NV\",\"TN\",\"NE\",\"TX\",\"ND\",\"OH\",\"MA\",\"MO\",\"SD\",\"WV\",\"PA\",\"WI\",\"NJ\",\"MD\",\"AR\",\"KS\",\"GA\",\"IL\",\"LA\",\"MS\",\"MI\",\"ME\",\"KY\",\"VA\",\"SC\",\"MN\",\"NH\",\"RI\",\"PR\",\"IN\",\"IA\",\"HI\",\"CT\",\"DE\",\"DC\"],\"mode\":\"text\",\"text\":[\"WA\",\"CA\",\"ID\",\"NC\",\"MT\",\"AZ\",\"OR\",\"CO\",\"WY\",\"FL\",\"AL\",\"NY\",\"OK\",\"NM\",\"AK\",\"UT\",\"NV\",\"TN\",\"NE\",\"TX\",\"ND\",\"OH\",\"MA\",\"MO\",\"SD\",\"WV\",\"PA\",\"WI\",\"NJ\",\"MD\",\"AR\",\"KS\",\"GA\",\"IL\",\"LA\",\"MS\",\"MI\",\"ME\",\"KY\",\"VA\",\"SC\",\"MN\",\"NH\",\"RI\",\"PR\",\"IN\",\"IA\",\"HI\",\"CT\",\"DE\",\"DC\"],\"textfont\":{\"color\":\"white\"},\"type\":\"scattergeo\"}],                        {\"template\":{\"data\":{\"histogram2dcontour\":[{\"type\":\"histogram2dcontour\",\"colorbar\":{\"outlinewidth\":0,\"ticks\":\"\"},\"colorscale\":[[0.0,\"#0d0887\"],[0.1111111111111111,\"#46039f\"],[0.2222222222222222,\"#7201a8\"],[0.3333333333333333,\"#9c179e\"],[0.4444444444444444,\"#bd3786\"],[0.5555555555555556,\"#d8576b\"],[0.6666666666666666,\"#ed7953\"],[0.7777777777777778,\"#fb9f3a\"],[0.8888888888888888,\"#fdca26\"],[1.0,\"#f0f921\"]]}],\"choropleth\":[{\"type\":\"choropleth\",\"colorbar\":{\"outlinewidth\":0,\"ticks\":\"\"}}],\"histogram2d\":[{\"type\":\"histogram2d\",\"colorbar\":{\"outlinewidth\":0,\"ticks\":\"\"},\"colorscale\":[[0.0,\"#0d0887\"],[0.1111111111111111,\"#46039f\"],[0.2222222222222222,\"#7201a8\"],[0.3333333333333333,\"#9c179e\"],[0.4444444444444444,\"#bd3786\"],[0.5555555555555556,\"#d8576b\"],[0.6666666666666666,\"#ed7953\"],[0.7777777777777778,\"#fb9f3a\"],[0.8888888888888888,\"#fdca26\"],[1.0,\"#f0f921\"]]}],\"heatmap\":[{\"type\":\"heatmap\",\"colorbar\":{\"outlinewidth\":0,\"ticks\":\"\"},\"colorscale\":[[0.0,\"#0d0887\"],[0.1111111111111111,\"#46039f\"],[0.2222222222222222,\"#7201a8\"],[0.3333333333333333,\"#9c179e\"],[0.4444444444444444,\"#bd3786\"],[0.5555555555555556,\"#d8576b\"],[0.6666666666666666,\"#ed7953\"],[0.7777777777777778,\"#fb9f3a\"],[0.8888888888888888,\"#fdca26\"],[1.0,\"#f0f921\"]]}],\"heatmapgl\":[{\"type\":\"heatmapgl\",\"colorbar\":{\"outlinewidth\":0,\"ticks\":\"\"},\"colorscale\":[[0.0,\"#0d0887\"],[0.1111111111111111,\"#46039f\"],[0.2222222222222222,\"#7201a8\"],[0.3333333333333333,\"#9c179e\"],[0.4444444444444444,\"#bd3786\"],[0.5555555555555556,\"#d8576b\"],[0.6666666666666666,\"#ed7953\"],[0.7777777777777778,\"#fb9f3a\"],[0.8888888888888888,\"#fdca26\"],[1.0,\"#f0f921\"]]}],\"contourcarpet\":[{\"type\":\"contourcarpet\",\"colorbar\":{\"outlinewidth\":0,\"ticks\":\"\"}}],\"contour\":[{\"type\":\"contour\",\"colorbar\":{\"outlinewidth\":0,\"ticks\":\"\"},\"colorscale\":[[0.0,\"#0d0887\"],[0.1111111111111111,\"#46039f\"],[0.2222222222222222,\"#7201a8\"],[0.3333333333333333,\"#9c179e\"],[0.4444444444444444,\"#bd3786\"],[0.5555555555555556,\"#d8576b\"],[0.6666666666666666,\"#ed7953\"],[0.7777777777777778,\"#fb9f3a\"],[0.8888888888888888,\"#fdca26\"],[1.0,\"#f0f921\"]]}],\"surface\":[{\"type\":\"surface\",\"colorbar\":{\"outlinewidth\":0,\"ticks\":\"\"},\"colorscale\":[[0.0,\"#0d0887\"],[0.1111111111111111,\"#46039f\"],[0.2222222222222222,\"#7201a8\"],[0.3333333333333333,\"#9c179e\"],[0.4444444444444444,\"#bd3786\"],[0.5555555555555556,\"#d8576b\"],[0.6666666666666666,\"#ed7953\"],[0.7777777777777778,\"#fb9f3a\"],[0.8888888888888888,\"#fdca26\"],[1.0,\"#f0f921\"]]}],\"mesh3d\":[{\"type\":\"mesh3d\",\"colorbar\":{\"outlinewidth\":0,\"ticks\":\"\"}}],\"scatter\":[{\"fillpattern\":{\"fillmode\":\"overlay\",\"size\":10,\"solidity\":0.2},\"type\":\"scatter\"}],\"parcoords\":[{\"type\":\"parcoords\",\"line\":{\"colorbar\":{\"outlinewidth\":0,\"ticks\":\"\"}}}],\"scatterpolargl\":[{\"type\":\"scatterpolargl\",\"marker\":{\"colorbar\":{\"outlinewidth\":0,\"ticks\":\"\"}}}],\"bar\":[{\"error_x\":{\"color\":\"#2a3f5f\"},\"error_y\":{\"color\":\"#2a3f5f\"},\"marker\":{\"line\":{\"color\":\"#E5ECF6\",\"width\":0.5},\"pattern\":{\"fillmode\":\"overlay\",\"size\":10,\"solidity\":0.2}},\"type\":\"bar\"}],\"scattergeo\":[{\"type\":\"scattergeo\",\"marker\":{\"colorbar\":{\"outlinewidth\":0,\"ticks\":\"\"}}}],\"scatterpolar\":[{\"type\":\"scatterpolar\",\"marker\":{\"colorbar\":{\"outlinewidth\":0,\"ticks\":\"\"}}}],\"histogram\":[{\"marker\":{\"pattern\":{\"fillmode\":\"overlay\",\"size\":10,\"solidity\":0.2}},\"type\":\"histogram\"}],\"scattergl\":[{\"type\":\"scattergl\",\"marker\":{\"colorbar\":{\"outlinewidth\":0,\"ticks\":\"\"}}}],\"scatter3d\":[{\"type\":\"scatter3d\",\"line\":{\"colorbar\":{\"outlinewidth\":0,\"ticks\":\"\"}},\"marker\":{\"colorbar\":{\"outlinewidth\":0,\"ticks\":\"\"}}}],\"scattermapbox\":[{\"type\":\"scattermapbox\",\"marker\":{\"colorbar\":{\"outlinewidth\":0,\"ticks\":\"\"}}}],\"scatterternary\":[{\"type\":\"scatterternary\",\"marker\":{\"colorbar\":{\"outlinewidth\":0,\"ticks\":\"\"}}}],\"scattercarpet\":[{\"type\":\"scattercarpet\",\"marker\":{\"colorbar\":{\"outlinewidth\":0,\"ticks\":\"\"}}}],\"carpet\":[{\"aaxis\":{\"endlinecolor\":\"#2a3f5f\",\"gridcolor\":\"white\",\"linecolor\":\"white\",\"minorgridcolor\":\"white\",\"startlinecolor\":\"#2a3f5f\"},\"baxis\":{\"endlinecolor\":\"#2a3f5f\",\"gridcolor\":\"white\",\"linecolor\":\"white\",\"minorgridcolor\":\"white\",\"startlinecolor\":\"#2a3f5f\"},\"type\":\"carpet\"}],\"table\":[{\"cells\":{\"fill\":{\"color\":\"#EBF0F8\"},\"line\":{\"color\":\"white\"}},\"header\":{\"fill\":{\"color\":\"#C8D4E3\"},\"line\":{\"color\":\"white\"}},\"type\":\"table\"}],\"barpolar\":[{\"marker\":{\"line\":{\"color\":\"#E5ECF6\",\"width\":0.5},\"pattern\":{\"fillmode\":\"overlay\",\"size\":10,\"solidity\":0.2}},\"type\":\"barpolar\"}],\"pie\":[{\"automargin\":true,\"type\":\"pie\"}]},\"layout\":{\"autotypenumbers\":\"strict\",\"colorway\":[\"#636efa\",\"#EF553B\",\"#00cc96\",\"#ab63fa\",\"#FFA15A\",\"#19d3f3\",\"#FF6692\",\"#B6E880\",\"#FF97FF\",\"#FECB52\"],\"font\":{\"color\":\"#2a3f5f\"},\"hovermode\":\"closest\",\"hoverlabel\":{\"align\":\"left\"},\"paper_bgcolor\":\"white\",\"plot_bgcolor\":\"#E5ECF6\",\"polar\":{\"bgcolor\":\"#E5ECF6\",\"angularaxis\":{\"gridcolor\":\"white\",\"linecolor\":\"white\",\"ticks\":\"\"},\"radialaxis\":{\"gridcolor\":\"white\",\"linecolor\":\"white\",\"ticks\":\"\"}},\"ternary\":{\"bgcolor\":\"#E5ECF6\",\"aaxis\":{\"gridcolor\":\"white\",\"linecolor\":\"white\",\"ticks\":\"\"},\"baxis\":{\"gridcolor\":\"white\",\"linecolor\":\"white\",\"ticks\":\"\"},\"caxis\":{\"gridcolor\":\"white\",\"linecolor\":\"white\",\"ticks\":\"\"}},\"coloraxis\":{\"colorbar\":{\"outlinewidth\":0,\"ticks\":\"\"}},\"colorscale\":{\"sequential\":[[0.0,\"#0d0887\"],[0.1111111111111111,\"#46039f\"],[0.2222222222222222,\"#7201a8\"],[0.3333333333333333,\"#9c179e\"],[0.4444444444444444,\"#bd3786\"],[0.5555555555555556,\"#d8576b\"],[0.6666666666666666,\"#ed7953\"],[0.7777777777777778,\"#fb9f3a\"],[0.8888888888888888,\"#fdca26\"],[1.0,\"#f0f921\"]],\"sequentialminus\":[[0.0,\"#0d0887\"],[0.1111111111111111,\"#46039f\"],[0.2222222222222222,\"#7201a8\"],[0.3333333333333333,\"#9c179e\"],[0.4444444444444444,\"#bd3786\"],[0.5555555555555556,\"#d8576b\"],[0.6666666666666666,\"#ed7953\"],[0.7777777777777778,\"#fb9f3a\"],[0.8888888888888888,\"#fdca26\"],[1.0,\"#f0f921\"]],\"diverging\":[[0,\"#8e0152\"],[0.1,\"#c51b7d\"],[0.2,\"#de77ae\"],[0.3,\"#f1b6da\"],[0.4,\"#fde0ef\"],[0.5,\"#f7f7f7\"],[0.6,\"#e6f5d0\"],[0.7,\"#b8e186\"],[0.8,\"#7fbc41\"],[0.9,\"#4d9221\"],[1,\"#276419\"]]},\"xaxis\":{\"gridcolor\":\"white\",\"linecolor\":\"white\",\"ticks\":\"\",\"title\":{\"standoff\":15},\"zerolinecolor\":\"white\",\"automargin\":true,\"zerolinewidth\":2},\"yaxis\":{\"gridcolor\":\"white\",\"linecolor\":\"white\",\"ticks\":\"\",\"title\":{\"standoff\":15},\"zerolinecolor\":\"white\",\"automargin\":true,\"zerolinewidth\":2},\"scene\":{\"xaxis\":{\"backgroundcolor\":\"#E5ECF6\",\"gridcolor\":\"white\",\"linecolor\":\"white\",\"showbackground\":true,\"ticks\":\"\",\"zerolinecolor\":\"white\",\"gridwidth\":2},\"yaxis\":{\"backgroundcolor\":\"#E5ECF6\",\"gridcolor\":\"white\",\"linecolor\":\"white\",\"showbackground\":true,\"ticks\":\"\",\"zerolinecolor\":\"white\",\"gridwidth\":2},\"zaxis\":{\"backgroundcolor\":\"#E5ECF6\",\"gridcolor\":\"white\",\"linecolor\":\"white\",\"showbackground\":true,\"ticks\":\"\",\"zerolinecolor\":\"white\",\"gridwidth\":2}},\"shapedefaults\":{\"line\":{\"color\":\"#2a3f5f\"}},\"annotationdefaults\":{\"arrowcolor\":\"#2a3f5f\",\"arrowhead\":0,\"arrowwidth\":1},\"geo\":{\"bgcolor\":\"white\",\"landcolor\":\"#E5ECF6\",\"subunitcolor\":\"white\",\"showland\":true,\"showlakes\":true,\"lakecolor\":\"white\"},\"title\":{\"x\":0.05},\"mapbox\":{\"style\":\"light\"}}},\"title\":{\"text\":\"Forest Fire Occurences in US States\"},\"geo\":{\"scope\":\"usa\",\"projection\":{\"type\":\"albers usa\"},\"showlakes\":true,\"lakecolor\":\"rgba(0,0,0,0)\",\"landcolor\":\"rgba(0,0,0,0)\",\"bgcolor\":\"rgba(0,0,0,0)\"},\"plot_bgcolor\":\"rgba(0,0,0,0)\",\"paper_bgcolor\":\"rgba(0,0,0,0)\"},                        {\"responsive\": true}                    ).then(function(){\n",
       "                            \n",
       "var gd = document.getElementById('9c479238-bcc7-4f42-a743-26555150a552');\n",
       "var x = new MutationObserver(function (mutations, observer) {{\n",
       "        var display = window.getComputedStyle(gd).display;\n",
       "        if (!display || display === 'none') {{\n",
       "            console.log([gd, 'removed!']);\n",
       "            Plotly.purge(gd);\n",
       "            observer.disconnect();\n",
       "        }}\n",
       "}});\n",
       "\n",
       "// Listen for the removal of the full notebook cells\n",
       "var notebookContainer = gd.closest('#notebook-container');\n",
       "if (notebookContainer) {{\n",
       "    x.observe(notebookContainer, {childList: true});\n",
       "}}\n",
       "\n",
       "// Listen for the clearing of the current output cell\n",
       "var outputEl = gd.closest('.output');\n",
       "if (outputEl) {{\n",
       "    x.observe(outputEl, {childList: true});\n",
       "}}\n",
       "\n",
       "                        })                };                });            </script>        </div>"
      ]
     },
     "metadata": {},
     "output_type": "display_data"
    }
   ],
   "source": [
    "# Sample data: Replace this with your actual data\n",
    "state_codes = df[df['FIRE_SIZE_CLASS'] != 'N']['STATE'].value_counts().index.values # List of US state codes\n",
    "fire_sizes = df[df['FIRE_SIZE_CLASS'] != 'N']['STATE'].value_counts().values       # Corresponding fire sizes\n",
    "\n",
    "# Create a DataFrame with state data\n",
    "fdata = {'state_code': state_codes, 'fire_sizes': fire_sizes}\n",
    "data = pd.DataFrame(fdata)\n",
    "\n",
    "scl = colors = [ \"#43190E\", \"#644423\",\n",
    "    \"#8A4D1E\", \"#AA5C1E\", \"#C93912\", \"#E48921\", \"#FAD028\"\n",
    "]\n",
    "\n",
    "# Create the choropleth map\n",
    "choropleth = go.Choropleth(\n",
    "    locations=data['state_code'],\n",
    "    locationmode='USA-states',\n",
    "    z=data['fire_sizes'].astype(float),\n",
    "    zmin=0,\n",
    "    zmax=max(data['fire_sizes'].astype(float)),\n",
    "    colorscale=scl,\n",
    "    autocolorscale=False,\n",
    "    text='Fire Sizes',\n",
    "    marker_line_color='white',\n",
    "    colorbar_title=\"Fire Occurences\"\n",
    ")\n",
    "\n",
    "# Create the figure and update layout\n",
    "fig = go.Figure(data=choropleth)\n",
    "fig.update_layout(\n",
    "    title_text='Forest Fire Occurences in US States',\n",
    "    geo=dict(\n",
    "        scope='usa',\n",
    "        projection=go.layout.geo.Projection(type='albers usa'),\n",
    "        showlakes=True,\n",
    "        lakecolor='rgba(0,0,0,0)',  # This sets the lake color to transparent\n",
    "        landcolor='rgba(0,0,0,0)', # This sets the land color to transparent\n",
    "        bgcolor='rgba(0,0,0,0)'    # This sets the geographic background color to transparent\n",
    "    ),\n",
    "    plot_bgcolor='rgba(0,0,0,0)',   # This sets the plot background to transparent\n",
    "    paper_bgcolor='rgba(0,0,0,0)',\n",
    ")\n",
    "fig.add_scattergeo(\n",
    "    locations=data['state_code'],\n",
    "    locationmode=\"USA-states\",\n",
    "    text=data['state_code'],\n",
    "    mode='text',\n",
    "    textfont=dict(color='white')\n",
    ")\n",
    "fig.write_image('Plots/State_by_FireOccurance.png', scale=7)  \n",
    "# Show the plot\n",
    "fig.show()\n"
   ]
  }
 ],
 "metadata": {
  "kernelspec": {
   "display_name": "Python 3",
   "language": "python",
   "name": "python3"
  },
  "language_info": {
   "codemirror_mode": {
    "name": "ipython",
    "version": 3
   },
   "file_extension": ".py",
   "mimetype": "text/x-python",
   "name": "python",
   "nbconvert_exporter": "python",
   "pygments_lexer": "ipython3",
   "version": "3.8.8"
  }
 },
 "nbformat": 4,
 "nbformat_minor": 5
}
